{
  "nbformat": 4,
  "nbformat_minor": 0,
  "metadata": {
    "colab": {
      "name": "unit5.ipynb",
      "provenance": [],
      "collapsed_sections": [],
      "authorship_tag": "ABX9TyMycTLiastt/cDvn2E/jJ8w",
      "include_colab_link": true
    },
    "kernelspec": {
      "name": "python3",
      "display_name": "Python 3"
    }
  },
  "cells": [
    {
      "cell_type": "markdown",
      "metadata": {
        "id": "view-in-github",
        "colab_type": "text"
      },
      "source": [
        "<a href=\"https://colab.research.google.com/github/ujin2021/ML_CrashCourse/blob/main/unit5.ipynb\" target=\"_parent\"><img src=\"https://colab.research.google.com/assets/colab-badge.svg\" alt=\"Open In Colab\"/></a>"
      ]
    },
    {
      "cell_type": "markdown",
      "metadata": {
        "id": "4yLeSwY8Gffb"
      },
      "source": [
        "### Test set, Training set\r\n",
        "* data set = test set + training set\r\n",
        "* data set를 나누기전 편중되지 않도록 임의로 데이터를 추출하는 것도 중요하다(한쪽은 여름, 한쪽은 겨울과같이)\r\n",
        "* Training set(학습세트)가 커지면 학습모델이 우수\r\n",
        "* Test set(테스트 세트)가 커지면 측정항목의 신뢰도가 높아지고 신뢰구간의 간격도 좁아진다\r\n",
        "* test set는 새 데이터를 모의 실험하는 역할을 한다\r\n",
        "* data set는 클수록 좋다\r\n",
        "* 데이터 세트가 아주 작으면 교차검증처럼 더욱 정교한 방법을 써야한다\r\n",
        "* 테스트 데이터로 학습하면 안된다\r\n",
        "* 테스트 데이터 정확성이 100%라고 나왔다면 테스트 데이터로 학습시킨것은 아닌지 확인해야한다"
      ]
    },
    {
      "cell_type": "code",
      "metadata": {
        "id": "jwYLO5WRGMLu"
      },
      "source": [
        "# test set, train set\r\n"
      ],
      "execution_count": null,
      "outputs": []
    }
  ]
}