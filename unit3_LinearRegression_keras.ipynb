{
  "nbformat": 4,
  "nbformat_minor": 0,
  "metadata": {
    "colab": {
      "name": "unit3_LinearRegression_keras.ipynb",
      "provenance": [],
      "collapsed_sections": [
        "QJr_qW7OjML8"
      ],
      "authorship_tag": "ABX9TyNS7NDSyUreJIBrqjQLrfYi",
      "include_colab_link": true
    },
    "kernelspec": {
      "name": "python3",
      "display_name": "Python 3"
    }
  },
  "cells": [
    {
      "cell_type": "markdown",
      "metadata": {
        "id": "view-in-github",
        "colab_type": "text"
      },
      "source": [
        "<a href=\"https://colab.research.google.com/github/ujin2021/ML_CrashCourse/blob/main/unit3_LinearRegression_keras.ipynb\" target=\"_parent\"><img src=\"https://colab.research.google.com/assets/colab-badge.svg\" alt=\"Open In Colab\"/></a>"
      ]
    },
    {
      "cell_type": "markdown",
      "metadata": {
        "id": "O-88st9Vi6c0"
      },
      "source": [
        "### Linear regression with tf.keras"
      ]
    },
    {
      "cell_type": "markdown",
      "metadata": {
        "id": "QJr_qW7OjML8"
      },
      "source": [
        "#### Linear Regression with Synthetic Data"
      ]
    },
    {
      "cell_type": "code",
      "metadata": {
        "id": "-xhNJ_-ri8op",
        "cellView": "form"
      },
      "source": [
        "#@title Run this Colab on TensorFlow 2.x\r\n",
        "%tensorflow_version 2.x"
      ],
      "execution_count": null,
      "outputs": []
    },
    {
      "cell_type": "code",
      "metadata": {
        "id": "4zxtWZDfjKOU",
        "cellView": "code"
      },
      "source": [
        "#@title Default title text\n",
        "import pandas as pd\n",
        "import tensorflow as tf\n",
        "from matplotlib import pyplot as plt"
      ],
      "execution_count": null,
      "outputs": []
    },
    {
      "cell_type": "code",
      "metadata": {
        "colab": {
          "base_uri": "https://localhost:8080/"
        },
        "cellView": "form",
        "id": "DlfFNJF4lifP",
        "outputId": "c5324a45-f900-48d3-c991-79e81c246067"
      },
      "source": [
        "#@title Define the functions that build and train a model\r\n",
        "def build_model(my_learning_rate):\r\n",
        "  \"\"\"Create and compile a simple linear regression model.\"\"\"\r\n",
        "  # Most simple tf.keras models are sequential. \r\n",
        "  # A sequential model contains one or more layers.\r\n",
        "  model = tf.keras.models.Sequential()\r\n",
        "\r\n",
        "  # Describe the topography of the model.\r\n",
        "  # The topography of a simple linear regression model\r\n",
        "  # is a single node in a single layer. \r\n",
        "  model.add(tf.keras.layers.Dense(units=1, \r\n",
        "                                  input_shape=(1,)))\r\n",
        "\r\n",
        "  # Compile the model topography into code that \r\n",
        "  # TensorFlow can efficiently execute. Configure \r\n",
        "  # training to minimize the model's mean squared error. \r\n",
        "  model.compile(optimizer=tf.keras.optimizers.RMSprop(lr=my_learning_rate),\r\n",
        "                loss=\"mean_squared_error\",\r\n",
        "                metrics=[tf.keras.metrics.RootMeanSquaredError()])\r\n",
        "\r\n",
        "  return model           \r\n",
        "\r\n",
        "\r\n",
        "def train_model(model, feature, label, epochs, batch_size):\r\n",
        "  \"\"\"Train the model by feeding it data.\"\"\"\r\n",
        "\r\n",
        "  # Feed the feature values and the label values to the \r\n",
        "  # model. The model will train for the specified number \r\n",
        "  # of epochs, gradually learning how the feature values\r\n",
        "  # relate to the label values. \r\n",
        "  history = model.fit(x=feature,\r\n",
        "                      y=label,\r\n",
        "                      batch_size=batch_size,\r\n",
        "                      epochs=epochs)\r\n",
        "\r\n",
        "  # Gather the trained model's weight and bias.\r\n",
        "  trained_weight = model.get_weights()[0]\r\n",
        "  trained_bias = model.get_weights()[1]\r\n",
        "\r\n",
        "  # The list of epochs is stored separately from the \r\n",
        "  # rest of history.\r\n",
        "  epochs = history.epoch\r\n",
        "  \r\n",
        "  # Gather the history (a snapshot) of each epoch.\r\n",
        "  hist = pd.DataFrame(history.history)\r\n",
        "\r\n",
        "  # Specifically gather the model's root mean \r\n",
        "  #squared error at each epoch. \r\n",
        "  rmse = hist[\"root_mean_squared_error\"]\r\n",
        "\r\n",
        "  return trained_weight, trained_bias, epochs, rmse\r\n",
        "\r\n",
        "print(\"Defined create_model and train_model\")"
      ],
      "execution_count": null,
      "outputs": [
        {
          "output_type": "stream",
          "text": [
            "Defined create_model and train_model\n"
          ],
          "name": "stdout"
        }
      ]
    },
    {
      "cell_type": "code",
      "metadata": {
        "colab": {
          "base_uri": "https://localhost:8080/"
        },
        "cellView": "form",
        "id": "AdHmMnMrlieJ",
        "outputId": "8d90c221-450a-4cc5-f705-0f6e679cea98"
      },
      "source": [
        "#@title Define the plotting functions\r\n",
        "def plot_the_model(trained_weight, trained_bias, feature, label):\r\n",
        "  \"\"\"Plot the trained model against the training feature and label.\"\"\"\r\n",
        "\r\n",
        "  # Label the axes.\r\n",
        "  plt.xlabel(\"feature\")\r\n",
        "  plt.ylabel(\"label\")\r\n",
        "\r\n",
        "  # Plot the feature values vs. label values.\r\n",
        "  plt.scatter(feature, label)\r\n",
        "\r\n",
        "  # Create a red line representing the model. The red line starts\r\n",
        "  # at coordinates (x0, y0) and ends at coordinates (x1, y1).\r\n",
        "  x0 = 0\r\n",
        "  y0 = trained_bias\r\n",
        "  x1 = my_feature[-1]\r\n",
        "  y1 = trained_bias + (trained_weight * x1)\r\n",
        "  plt.plot([x0, x1], [y0, y1], c='r')\r\n",
        "\r\n",
        "  # Render the scatter plot and the red line.\r\n",
        "  plt.show()\r\n",
        "\r\n",
        "def plot_the_loss_curve(epochs, rmse):\r\n",
        "  \"\"\"Plot the loss curve, which shows loss vs. epoch.\"\"\"\r\n",
        "\r\n",
        "  plt.figure()\r\n",
        "  plt.xlabel(\"Epoch\")\r\n",
        "  plt.ylabel(\"Root Mean Squared Error\")\r\n",
        "\r\n",
        "  plt.plot(epochs, rmse, label=\"Loss\")\r\n",
        "  plt.legend()\r\n",
        "  plt.ylim([rmse.min()*0.97, rmse.max()])\r\n",
        "  plt.show()\r\n",
        "\r\n",
        "print(\"Defined the plot_the_model and plot_the_loss_curve functions.\")"
      ],
      "execution_count": null,
      "outputs": [
        {
          "output_type": "stream",
          "text": [
            "Defined the plot_the_model and plot_the_loss_curve functions.\n"
          ],
          "name": "stdout"
        }
      ]
    },
    {
      "cell_type": "code",
      "metadata": {
        "id": "m_6QtsqNj7L0"
      },
      "source": [
        "# Define the dataset\r\n",
        "my_feature = ([1.0, 2.0, 3.0, 4.0, 5.0, 6.0, 7.0, 8.0, 9.0, 10.0, 11.0, 12.0])\r\n",
        "my_label   = ([5.0, 8.8,  9.6, 14.2, 18.8, 19.5, 21.4, 26.8, 28.9, 32.0, 33.8, 38.2])"
      ],
      "execution_count": null,
      "outputs": []
    },
    {
      "cell_type": "code",
      "metadata": {
        "colab": {
          "base_uri": "https://localhost:8080/",
          "height": 952
        },
        "id": "tW9-zIS3kfk1",
        "outputId": "30d552ba-e1fc-462c-a82f-db1dfb74fdc0"
      },
      "source": [
        "# Initialize hyperparameters(learning rate, epochs, batch_size)\r\n",
        "# Invokes the functions that build and train the model\r\n",
        "\r\n",
        "learning_rate = 0.01\r\n",
        "epochs = 10\r\n",
        "my_batch_size = 12\r\n",
        "\r\n",
        "my_model = build_model(learning_rate)\r\n",
        "trained_weight, trained_bias, epochs, rmse = train_model(my_model, my_feature, my_label, epochs, my_batch_size)\r\n",
        "plot_the_model(trained_weight, trained_bias, my_feature, my_label)\r\n",
        "plot_the_loss_curve(epochs, rmse)"
      ],
      "execution_count": null,
      "outputs": [
        {
          "output_type": "stream",
          "text": [
            "Epoch 1/10\n",
            "1/1 [==============================] - 0s 491ms/step - loss: 616.0851 - root_mean_squared_error: 24.8211\n",
            "Epoch 2/10\n",
            "1/1 [==============================] - 0s 3ms/step - loss: 603.2032 - root_mean_squared_error: 24.5602\n",
            "Epoch 3/10\n",
            "1/1 [==============================] - 0s 3ms/step - loss: 593.9893 - root_mean_squared_error: 24.3719\n",
            "Epoch 4/10\n",
            "1/1 [==============================] - 0s 5ms/step - loss: 586.3522 - root_mean_squared_error: 24.2147\n",
            "Epoch 5/10\n",
            "1/1 [==============================] - 0s 3ms/step - loss: 579.6295 - root_mean_squared_error: 24.0755\n",
            "Epoch 6/10\n",
            "1/1 [==============================] - 0s 3ms/step - loss: 573.5145 - root_mean_squared_error: 23.9482\n",
            "Epoch 7/10\n",
            "1/1 [==============================] - 0s 3ms/step - loss: 567.8362 - root_mean_squared_error: 23.8293\n",
            "Epoch 8/10\n",
            "1/1 [==============================] - 0s 3ms/step - loss: 562.4887 - root_mean_squared_error: 23.7168\n",
            "Epoch 9/10\n",
            "1/1 [==============================] - 0s 5ms/step - loss: 557.4008 - root_mean_squared_error: 23.6093\n",
            "Epoch 10/10\n",
            "1/1 [==============================] - 0s 3ms/step - loss: 552.5226 - root_mean_squared_error: 23.5058\n"
          ],
          "name": "stdout"
        },
        {
          "output_type": "stream",
          "text": [
            "/usr/local/lib/python3.6/dist-packages/numpy/core/_asarray.py:136: VisibleDeprecationWarning: Creating an ndarray from ragged nested sequences (which is a list-or-tuple of lists-or-tuples-or ndarrays with different lengths or shapes) is deprecated. If you meant to do this, you must specify 'dtype=object' when creating the ndarray\n",
            "  return array(a, dtype, copy=False, order=order, subok=True)\n"
          ],
          "name": "stderr"
        },
        {
          "output_type": "display_data",
          "data": {
            "image/png": "[encoded data removed]",
            "text/plain": [
              "<Figure size 432x288 with 1 Axes>"
            ]
          },
          "metadata": {
            "tags": [],
            "needs_background": "light"
          }
        },
        {
          "output_type": "display_data",
          "data": {
            "image/png": "[encoded data removed]",
            "text/plain": [
              "<Figure size 432x288 with 1 Axes>"
            ]
          },
          "metadata": {
            "tags": [],
            "needs_background": "light"
          }
        }
      ]
    },
    {
      "cell_type": "markdown",
      "metadata": {
        "id": "Qnxy-y62l0bo"
      },
      "source": [
        "* blue dot : actual data\r\n",
        "* red line : output of trained model(blue dot을 따라가야 한다)\r\n",
        "* loss 함수는 loss curve가 점점 감소하면서 flattend out되어야 하는데 그렇지 않다-> 학습이 충분히 되지 않았다"
      ]
    },
    {
      "cell_type": "code",
      "metadata": {
        "id": "dQDHg-NJlDT-"
      },
      "source": [
        "# Increase the number of epoches\r\n",
        "epochs = 1000\r\n",
        "\r\n",
        "my_model = build_model(learning_rate)\r\n",
        "trained_weight, trained_bias, epochs, rmse = train_model(my_model, my_feature, my_label, epochs, my_batch_size)"
      ],
      "execution_count": null,
      "outputs": []
    },
    {
      "cell_type": "code",
      "metadata": {
        "colab": {
          "base_uri": "https://localhost:8080/",
          "height": 600
        },
        "id": "gJhB6Ia_mwp3",
        "outputId": "2c8a924b-88c3-4b8f-f51f-14cda789637f"
      },
      "source": [
        "# learning rate = 0.01, epochs = 1000\r\n",
        "plot_the_model(trained_weight, trained_bias, my_feature, my_label)\r\n",
        "plot_the_loss_curve(epochs, rmse)"
      ],
      "execution_count": null,
      "outputs": [
        {
          "output_type": "stream",
          "text": [
            "/usr/local/lib/python3.6/dist-packages/numpy/core/_asarray.py:136: VisibleDeprecationWarning: Creating an ndarray from ragged nested sequences (which is a list-or-tuple of lists-or-tuples-or ndarrays with different lengths or shapes) is deprecated. If you meant to do this, you must specify 'dtype=object' when creating the ndarray\n",
            "  return array(a, dtype, copy=False, order=order, subok=True)\n"
          ],
          "name": "stderr"
        },
        {
          "output_type": "display_data",
          "data": {
            "image/png": "[encoded data removed]",
            "text/plain": [
              "<Figure size 432x288 with 1 Axes>"
            ]
          },
          "metadata": {
            "tags": [],
            "needs_background": "light"
          }
        },
        {
          "output_type": "display_data",
          "data": {
            "image/png": "[encoded data removed]",
            "text/plain": [
              "<Figure size 432x288 with 1 Axes>"
            ]
          },
          "metadata": {
            "tags": [],
            "needs_background": "light"
          }
        }
      ]
    },
    {
      "cell_type": "markdown",
      "metadata": {
        "id": "dKNE7Q4wmazS"
      },
      "source": [
        "* epochs를 10에서 1000으로 올리니 빨간 선도 파란 점을 따라가고, loss함수도 flattened 되었다"
      ]
    },
    {
      "cell_type": "code",
      "metadata": {
        "id": "zBB-KYINmivw"
      },
      "source": [
        "# Increase the learning rate\r\n",
        "\r\n",
        "learning_rate = 100\r\n",
        "epochs = 500\r\n",
        "my_batch_size = 12\r\n",
        "\r\n",
        "my_model = build_model(learning_rate)\r\n",
        "trained_weight, trained_bias, epochs, rmse = train_model(my_model, my_feature, my_label, epochs, my_batch_size)"
      ],
      "execution_count": null,
      "outputs": []
    },
    {
      "cell_type": "code",
      "metadata": {
        "colab": {
          "base_uri": "https://localhost:8080/",
          "height": 596
        },
        "id": "MSAE8unFm8Yx",
        "outputId": "ce3978f8-e70c-4bc6-f35a-3492cf9b4c5e"
      },
      "source": [
        "# learning rate = 100, epochs = 500\r\n",
        "plot_the_model(trained_weight, trained_bias, my_feature, my_label)\r\n",
        "plot_the_loss_curve(epochs, rmse)"
      ],
      "execution_count": null,
      "outputs": [
        {
          "output_type": "stream",
          "text": [
            "/usr/local/lib/python3.6/dist-packages/numpy/core/_asarray.py:136: VisibleDeprecationWarning: Creating an ndarray from ragged nested sequences (which is a list-or-tuple of lists-or-tuples-or ndarrays with different lengths or shapes) is deprecated. If you meant to do this, you must specify 'dtype=object' when creating the ndarray\n",
            "  return array(a, dtype, copy=False, order=order, subok=True)\n"
          ],
          "name": "stderr"
        },
        {
          "output_type": "display_data",
          "data": {
            "image/png": "[encoded data removed]",
            "text/plain": [
              "<Figure size 432x288 with 1 Axes>"
            ]
          },
          "metadata": {
            "tags": [],
            "needs_background": "light"
          }
        },
        {
          "output_type": "display_data",
          "data": {
            "image/png": "[encoded data removed]",
            "text/plain": [
              "<Figure size 432x288 with 1 Axes>"
            ]
          },
          "metadata": {
            "tags": [],
            "needs_background": "light"
          }
        }
      ]
    },
    {
      "cell_type": "markdown",
      "metadata": {
        "id": "Iw6qhot2nL_B"
      },
      "source": [
        "* 빨간선이 전혀 파란점과 맞지 않는다\r\n",
        "* loss함수도 롤러코스터 처럼 흔들린다 -> learning rate가 too high"
      ]
    },
    {
      "cell_type": "code",
      "metadata": {
        "id": "j6GfsY6wnTnM"
      },
      "source": [
        "# Find the ideal combination of epochs and learning rate\r\n",
        "learning_rate = 0.14\r\n",
        "epochs = 70\r\n",
        "my_batch_size = 12\r\n",
        "\r\n",
        "my_model = build_model(learning_rate)\r\n",
        "trained_weight, trained_bias, epochs, rmse = train_model(my_model, my_feature, my_label, epochs, my_batch_size)"
      ],
      "execution_count": null,
      "outputs": []
    },
    {
      "cell_type": "code",
      "metadata": {
        "colab": {
          "base_uri": "https://localhost:8080/",
          "height": 596
        },
        "id": "acpXLLmZnyuf",
        "outputId": "5109ed6f-ec10-4a7f-96dd-87d6c4a21fc6"
      },
      "source": [
        "# learning rate = 0.14, epochs = 70\r\n",
        "plot_the_model(trained_weight, trained_bias, my_feature, my_label)\r\n",
        "plot_the_loss_curve(epochs, rmse)"
      ],
      "execution_count": null,
      "outputs": [
        {
          "output_type": "stream",
          "text": [
            "/usr/local/lib/python3.6/dist-packages/numpy/core/_asarray.py:136: VisibleDeprecationWarning: Creating an ndarray from ragged nested sequences (which is a list-or-tuple of lists-or-tuples-or ndarrays with different lengths or shapes) is deprecated. If you meant to do this, you must specify 'dtype=object' when creating the ndarray\n",
            "  return array(a, dtype, copy=False, order=order, subok=True)\n"
          ],
          "name": "stderr"
        },
        {
          "output_type": "display_data",
          "data": {
            "image/png": "[encoded data removed]",
            "text/plain": [
              "<Figure size 432x288 with 1 Axes>"
            ]
          },
          "metadata": {
            "tags": [],
            "needs_background": "light"
          }
        },
        {
          "output_type": "display_data",
          "data": {
            "image/png": "[encoded data removed]",
            "text/plain": [
              "<Figure size 432x288 with 1 Axes>"
            ]
          },
          "metadata": {
            "tags": [],
            "needs_background": "light"
          }
        }
      ]
    },
    {
      "cell_type": "markdown",
      "metadata": {
        "id": "n6BluC89n7ip"
      },
      "source": [
        "* batch size : 만약 batch size가 6이다 -> system이 model의 loss value를 6개의 example을 가지고 재연산 한다\r\n",
        "\r\n",
        "* batch size가 작을수록 더 빠르게 학습된다\r\n",
        "\r\n",
        "* epoch : dataset의 모든 example을 처리하기에 충분한 반복 수. 만약 dataset이 12개이고, batch size가 12이면 1번, batch size가 6이면 2번이 적합\r\n",
        "\r\n",
        "* batch size는 한번의 batch 마다 주는 data sample의 size, batch는 나눠진 data set, iteration은 epoch를나누어서 실행하는 횟수\r\n",
        "\r\n",
        "* 메모리의 한계와 속도 저하 때문에 대부분의 경우에는 한번의 epoch에서 모든 데이터를 한꺼번에 집어넣을 수 없으므로 data를 나누어서 주게된다\r\n",
        "\r\n",
        "* 이때 몇번 나누어 주는가를 iteration, 각 iteration마다 주는 데이터 사이즈를 batch size라고 한다"
      ]
    },
    {
      "cell_type": "code",
      "metadata": {
        "id": "-9-O0j6Kp1-r"
      },
      "source": [
        "learning_rate=0.05\r\n",
        "epochs=125\r\n",
        "my_batch_size=1 # epoch에 맞게 적합한 batch size를 고른 것. Wow, a batch size of 1 works!\r\n",
        "\r\n",
        "my_model = build_model(learning_rate)\r\n",
        "trained_weight, trained_bias, epochs, rmse = train_model(my_model, my_feature, \r\n",
        "                                                         my_label, epochs,\r\n",
        "                                                         my_batch_size)"
      ],
      "execution_count": null,
      "outputs": []
    },
    {
      "cell_type": "code",
      "metadata": {
        "colab": {
          "base_uri": "https://localhost:8080/",
          "height": 596
        },
        "id": "BXzDBHWfq2AE",
        "outputId": "e6710a11-cc0b-4ea0-9df9-257a199ee782"
      },
      "source": [
        "plot_the_model(trained_weight, trained_bias, my_feature, my_label)\r\n",
        "plot_the_loss_curve(epochs, rmse)"
      ],
      "execution_count": null,
      "outputs": [
        {
          "output_type": "stream",
          "text": [
            "/usr/local/lib/python3.6/dist-packages/numpy/core/_asarray.py:136: VisibleDeprecationWarning: Creating an ndarray from ragged nested sequences (which is a list-or-tuple of lists-or-tuples-or ndarrays with different lengths or shapes) is deprecated. If you meant to do this, you must specify 'dtype=object' when creating the ndarray\n",
            "  return array(a, dtype, copy=False, order=order, subok=True)\n"
          ],
          "name": "stderr"
        },
        {
          "output_type": "display_data",
          "data": {
            "image/png": "[encoded data removed]",
            "text/plain": [
              "<Figure size 432x288 with 1 Axes>"
            ]
          },
          "metadata": {
            "tags": [],
            "needs_background": "light"
          }
        },
        {
          "output_type": "display_data",
          "data": {
            "image/png": "[encoded data removed]",
            "text/plain": [
              "<Figure size 432x288 with 1 Axes>"
            ]
          },
          "metadata": {
            "tags": [],
            "needs_background": "light"
          }
        }
      ]
    },
    {
      "cell_type": "code",
      "metadata": {
        "id": "_mRX1nppsIi5"
      },
      "source": [
        ""
      ],
      "execution_count": null,
      "outputs": []
    },
    {
      "cell_type": "markdown",
      "metadata": {
        "id": "ebGZ66CMrrUo"
      },
      "source": [
        "#### Linear Regression with a Real Dataset"
      ]
    },
    {
      "cell_type": "code",
      "metadata": {
        "id": "lM75uNH-sTv2",
        "cellView": "form"
      },
      "source": [
        "#@title Run on TensorFlow 2.x\n",
        "%tensorflow_version 2.x"
      ],
      "execution_count": null,
      "outputs": []
    },
    {
      "cell_type": "code",
      "metadata": {
        "id": "9n9_cTveKmse",
        "cellView": "form"
      },
      "source": [
        "#@title Import relevant modules\n",
        "import pandas as pd\n",
        "import tensorflow as tf\n",
        "from matplotlib import pyplot as plt\n",
        "\n",
        "# The following lines adjust the granularity of reporting. \n",
        "pd.options.display.max_rows = 10\n",
        "pd.options.display.float_format = \"{:.1f}\".format"
      ],
      "execution_count": null,
      "outputs": []
    },
    {
      "cell_type": "code",
      "metadata": {
        "id": "GrCuvwh3UUaJ"
      },
      "source": [
        "import pandas as pd\r\n",
        "import tensorflow as tf\r\n",
        "import matplotlib.pyplot as plt"
      ],
      "execution_count": 19,
      "outputs": []
    },
    {
      "cell_type": "code",
      "metadata": {
        "colab": {
          "base_uri": "https://localhost:8080/",
          "height": 215
        },
        "id": "vc21HHP85V85",
        "outputId": "da3a8d17-ea04-45d7-85c9-90327730bab1"
      },
      "source": [
        "# Import the dataset\r\n",
        "training_df = pd.read_csv(filepath_or_buffer=\"https://download.mlcc.google.com/mledu-datasets/california_housing_train.csv\")\r\n",
        "\r\n",
        "# Scale the label\r\n",
        "training_df[\"median_house_value\"] /= 1000.0\r\n",
        "\r\n",
        "# Print the first rows of the pandas DataFrame\r\n",
        "training_df.head()"
      ],
      "execution_count": 5,
      "outputs": [
        {
          "output_type": "execute_result",
          "data": {
            "text/html": [
              "<div>\n",
              "<style scoped>\n",
              "    .dataframe tbody tr th:only-of-type {\n",
              "        vertical-align: middle;\n",
              "    }\n",
              "\n",
              "    .dataframe tbody tr th {\n",
              "        vertical-align: top;\n",
              "    }\n",
              "\n",
              "    .dataframe thead th {\n",
              "        text-align: right;\n",
              "    }\n",
              "</style>\n",
              "<table border=\"1\" class=\"dataframe\">\n",
              "  <thead>\n",
              "    <tr style=\"text-align: right;\">\n",
              "      <th></th>\n",
              "      <th>longitude</th>\n",
              "      <th>latitude</th>\n",
              "      <th>housing_median_age</th>\n",
              "      <th>total_rooms</th>\n",
              "      <th>total_bedrooms</th>\n",
              "      <th>population</th>\n",
              "      <th>households</th>\n",
              "      <th>median_income</th>\n",
              "      <th>median_house_value</th>\n",
              "    </tr>\n",
              "  </thead>\n",
              "  <tbody>\n",
              "    <tr>\n",
              "      <th>0</th>\n",
              "      <td>-114.31</td>\n",
              "      <td>34.19</td>\n",
              "      <td>15.0</td>\n",
              "      <td>5612.0</td>\n",
              "      <td>1283.0</td>\n",
              "      <td>1015.0</td>\n",
              "      <td>472.0</td>\n",
              "      <td>1.4936</td>\n",
              "      <td>66.9</td>\n",
              "    </tr>\n",
              "    <tr>\n",
              "      <th>1</th>\n",
              "      <td>-114.47</td>\n",
              "      <td>34.40</td>\n",
              "      <td>19.0</td>\n",
              "      <td>7650.0</td>\n",
              "      <td>1901.0</td>\n",
              "      <td>1129.0</td>\n",
              "      <td>463.0</td>\n",
              "      <td>1.8200</td>\n",
              "      <td>80.1</td>\n",
              "    </tr>\n",
              "    <tr>\n",
              "      <th>2</th>\n",
              "      <td>-114.56</td>\n",
              "      <td>33.69</td>\n",
              "      <td>17.0</td>\n",
              "      <td>720.0</td>\n",
              "      <td>174.0</td>\n",
              "      <td>333.0</td>\n",
              "      <td>117.0</td>\n",
              "      <td>1.6509</td>\n",
              "      <td>85.7</td>\n",
              "    </tr>\n",
              "    <tr>\n",
              "      <th>3</th>\n",
              "      <td>-114.57</td>\n",
              "      <td>33.64</td>\n",
              "      <td>14.0</td>\n",
              "      <td>1501.0</td>\n",
              "      <td>337.0</td>\n",
              "      <td>515.0</td>\n",
              "      <td>226.0</td>\n",
              "      <td>3.1917</td>\n",
              "      <td>73.4</td>\n",
              "    </tr>\n",
              "    <tr>\n",
              "      <th>4</th>\n",
              "      <td>-114.57</td>\n",
              "      <td>33.57</td>\n",
              "      <td>20.0</td>\n",
              "      <td>1454.0</td>\n",
              "      <td>326.0</td>\n",
              "      <td>624.0</td>\n",
              "      <td>262.0</td>\n",
              "      <td>1.9250</td>\n",
              "      <td>65.5</td>\n",
              "    </tr>\n",
              "  </tbody>\n",
              "</table>\n",
              "</div>"
            ],
            "text/plain": [
              "   longitude  latitude  ...  median_income  median_house_value\n",
              "0    -114.31     34.19  ...         1.4936                66.9\n",
              "1    -114.47     34.40  ...         1.8200                80.1\n",
              "2    -114.56     33.69  ...         1.6509                85.7\n",
              "3    -114.57     33.64  ...         3.1917                73.4\n",
              "4    -114.57     33.57  ...         1.9250                65.5\n",
              "\n",
              "[5 rows x 9 columns]"
            ]
          },
          "metadata": {
            "tags": []
          },
          "execution_count": 5
        }
      ]
    },
    {
      "cell_type": "code",
      "metadata": {
        "colab": {
          "base_uri": "https://localhost:8080/",
          "height": 304
        },
        "id": "0o57hrzJVlhe",
        "outputId": "b9d0f5b7-ed85-43cf-e590-4f3769f89a79"
      },
      "source": [
        "# Get statistics on the dataset\r\n",
        "training_df.describe()"
      ],
      "execution_count": 6,
      "outputs": [
        {
          "output_type": "execute_result",
          "data": {
            "text/html": [
              "<div>\n",
              "<style scoped>\n",
              "    .dataframe tbody tr th:only-of-type {\n",
              "        vertical-align: middle;\n",
              "    }\n",
              "\n",
              "    .dataframe tbody tr th {\n",
              "        vertical-align: top;\n",
              "    }\n",
              "\n",
              "    .dataframe thead th {\n",
              "        text-align: right;\n",
              "    }\n",
              "</style>\n",
              "<table border=\"1\" class=\"dataframe\">\n",
              "  <thead>\n",
              "    <tr style=\"text-align: right;\">\n",
              "      <th></th>\n",
              "      <th>longitude</th>\n",
              "      <th>latitude</th>\n",
              "      <th>housing_median_age</th>\n",
              "      <th>total_rooms</th>\n",
              "      <th>total_bedrooms</th>\n",
              "      <th>population</th>\n",
              "      <th>households</th>\n",
              "      <th>median_income</th>\n",
              "      <th>median_house_value</th>\n",
              "    </tr>\n",
              "  </thead>\n",
              "  <tbody>\n",
              "    <tr>\n",
              "      <th>count</th>\n",
              "      <td>17000.000000</td>\n",
              "      <td>17000.000000</td>\n",
              "      <td>17000.000000</td>\n",
              "      <td>17000.000000</td>\n",
              "      <td>17000.000000</td>\n",
              "      <td>17000.000000</td>\n",
              "      <td>17000.000000</td>\n",
              "      <td>17000.000000</td>\n",
              "      <td>17000.000000</td>\n",
              "    </tr>\n",
              "    <tr>\n",
              "      <th>mean</th>\n",
              "      <td>-119.562108</td>\n",
              "      <td>35.625225</td>\n",
              "      <td>28.589353</td>\n",
              "      <td>2643.664412</td>\n",
              "      <td>539.410824</td>\n",
              "      <td>1429.573941</td>\n",
              "      <td>501.221941</td>\n",
              "      <td>3.883578</td>\n",
              "      <td>207.300912</td>\n",
              "    </tr>\n",
              "    <tr>\n",
              "      <th>std</th>\n",
              "      <td>2.005166</td>\n",
              "      <td>2.137340</td>\n",
              "      <td>12.586937</td>\n",
              "      <td>2179.947071</td>\n",
              "      <td>421.499452</td>\n",
              "      <td>1147.852959</td>\n",
              "      <td>384.520841</td>\n",
              "      <td>1.908157</td>\n",
              "      <td>115.983764</td>\n",
              "    </tr>\n",
              "    <tr>\n",
              "      <th>min</th>\n",
              "      <td>-124.350000</td>\n",
              "      <td>32.540000</td>\n",
              "      <td>1.000000</td>\n",
              "      <td>2.000000</td>\n",
              "      <td>1.000000</td>\n",
              "      <td>3.000000</td>\n",
              "      <td>1.000000</td>\n",
              "      <td>0.499900</td>\n",
              "      <td>14.999000</td>\n",
              "    </tr>\n",
              "    <tr>\n",
              "      <th>25%</th>\n",
              "      <td>-121.790000</td>\n",
              "      <td>33.930000</td>\n",
              "      <td>18.000000</td>\n",
              "      <td>1462.000000</td>\n",
              "      <td>297.000000</td>\n",
              "      <td>790.000000</td>\n",
              "      <td>282.000000</td>\n",
              "      <td>2.566375</td>\n",
              "      <td>119.400000</td>\n",
              "    </tr>\n",
              "    <tr>\n",
              "      <th>50%</th>\n",
              "      <td>-118.490000</td>\n",
              "      <td>34.250000</td>\n",
              "      <td>29.000000</td>\n",
              "      <td>2127.000000</td>\n",
              "      <td>434.000000</td>\n",
              "      <td>1167.000000</td>\n",
              "      <td>409.000000</td>\n",
              "      <td>3.544600</td>\n",
              "      <td>180.400000</td>\n",
              "    </tr>\n",
              "    <tr>\n",
              "      <th>75%</th>\n",
              "      <td>-118.000000</td>\n",
              "      <td>37.720000</td>\n",
              "      <td>37.000000</td>\n",
              "      <td>3151.250000</td>\n",
              "      <td>648.250000</td>\n",
              "      <td>1721.000000</td>\n",
              "      <td>605.250000</td>\n",
              "      <td>4.767000</td>\n",
              "      <td>265.000000</td>\n",
              "    </tr>\n",
              "    <tr>\n",
              "      <th>max</th>\n",
              "      <td>-114.310000</td>\n",
              "      <td>41.950000</td>\n",
              "      <td>52.000000</td>\n",
              "      <td>37937.000000</td>\n",
              "      <td>6445.000000</td>\n",
              "      <td>35682.000000</td>\n",
              "      <td>6082.000000</td>\n",
              "      <td>15.000100</td>\n",
              "      <td>500.001000</td>\n",
              "    </tr>\n",
              "  </tbody>\n",
              "</table>\n",
              "</div>"
            ],
            "text/plain": [
              "          longitude      latitude  ...  median_income  median_house_value\n",
              "count  17000.000000  17000.000000  ...   17000.000000        17000.000000\n",
              "mean    -119.562108     35.625225  ...       3.883578          207.300912\n",
              "std        2.005166      2.137340  ...       1.908157          115.983764\n",
              "min     -124.350000     32.540000  ...       0.499900           14.999000\n",
              "25%     -121.790000     33.930000  ...       2.566375          119.400000\n",
              "50%     -118.490000     34.250000  ...       3.544600          180.400000\n",
              "75%     -118.000000     37.720000  ...       4.767000          265.000000\n",
              "max     -114.310000     41.950000  ...      15.000100          500.001000\n",
              "\n",
              "[8 rows x 9 columns]"
            ]
          },
          "metadata": {
            "tags": []
          },
          "execution_count": 6
        }
      ]
    },
    {
      "cell_type": "code",
      "metadata": {
        "id": "pedD5GhlDC-y",
        "cellView": "form",
        "colab": {
          "base_uri": "https://localhost:8080/"
        },
        "outputId": "a5484276-2c50-4fe1-d6f1-97ecc0f3a6bb"
      },
      "source": [
        "#@title Define the functions that build and train a model\n",
        "def build_model(my_learning_rate):\n",
        "  \"\"\"Create and compile a simple linear regression model.\"\"\"\n",
        "  # Most simple tf.keras models are sequential.\n",
        "  model = tf.keras.models.Sequential()\n",
        "\n",
        "  # Describe the topography of the model.\n",
        "  # The topography of a simple linear regression model\n",
        "  # is a single node in a single layer.\n",
        "  model.add(tf.keras.layers.Dense(units=1, \n",
        "                                  input_shape=(1,)))\n",
        "\n",
        "  # Compile the model topography into code that TensorFlow can efficiently\n",
        "  # execute. Configure training to minimize the model's mean squared error. \n",
        "  model.compile(optimizer=tf.keras.optimizers.RMSprop(lr=my_learning_rate),\n",
        "                loss=\"mean_squared_error\",\n",
        "                metrics=[tf.keras.metrics.RootMeanSquaredError()])\n",
        "\n",
        "  return model        \n",
        "\n",
        "\n",
        "def train_model(model, df, feature, label, epochs, batch_size):\n",
        "  \"\"\"Train the model by feeding it data.\"\"\"\n",
        "\n",
        "  # Feed the model the feature and the label.\n",
        "  # The model will train for the specified number of epochs. \n",
        "  history = model.fit(x=df[feature],\n",
        "                      y=df[label],\n",
        "                      batch_size=batch_size,\n",
        "                      epochs=epochs)\n",
        "\n",
        "  # Gather the trained model's weight and bias.\n",
        "  trained_weight = model.get_weights()[0]\n",
        "  trained_bias = model.get_weights()[1]\n",
        "\n",
        "  # The list of epochs is stored separately from the rest of history.\n",
        "  epochs = history.epoch\n",
        "  \n",
        "  # Isolate the error for each epoch.\n",
        "  hist = pd.DataFrame(history.history)\n",
        "\n",
        "  # To track the progression of training, we're going to take a snapshot\n",
        "  # of the model's root mean squared error at each epoch. \n",
        "  rmse = hist[\"root_mean_squared_error\"]\n",
        "\n",
        "  return trained_weight, trained_bias, epochs, rmse\n",
        "\n",
        "print(\"Defined the create_model and traing_model functions.\")"
      ],
      "execution_count": 14,
      "outputs": [
        {
          "output_type": "stream",
          "text": [
            "Defined the create_model and traing_model functions.\n"
          ],
          "name": "stdout"
        }
      ]
    },
    {
      "cell_type": "code",
      "metadata": {
        "id": "QF0BFRXTOeR3",
        "cellView": "form",
        "colab": {
          "base_uri": "https://localhost:8080/"
        },
        "outputId": "d3030986-542b-49be-9097-7b7e55d1ef58"
      },
      "source": [
        "#@title Define the plotting functions\n",
        "def plot_the_model(trained_weight, trained_bias, feature, label):\n",
        "  \"\"\"Plot the trained model against 200 random training examples.\"\"\"\n",
        "\n",
        "  # Label the axes.\n",
        "  plt.xlabel(feature)\n",
        "  plt.ylabel(label)\n",
        "\n",
        "  # Create a scatter plot from 200 random points of the dataset.\n",
        "  random_examples = training_df.sample(n=200)\n",
        "  plt.scatter(random_examples[feature], random_examples[label])\n",
        "\n",
        "  # Create a red line representing the model. The red line starts\n",
        "  # at coordinates (x0, y0) and ends at coordinates (x1, y1).\n",
        "  x0 = 0\n",
        "  y0 = trained_bias\n",
        "  x1 = 10000\n",
        "  y1 = trained_bias + (trained_weight * x1)\n",
        "  plt.plot([x0, x1], [y0, y1], c='r')\n",
        "\n",
        "  # Render the scatter plot and the red line.\n",
        "  plt.show()\n",
        "\n",
        "\n",
        "def plot_the_loss_curve(epochs, rmse):\n",
        "  \"\"\"Plot a curve of loss vs. epoch.\"\"\"\n",
        "\n",
        "  plt.figure()\n",
        "  plt.xlabel(\"Epoch\")\n",
        "  plt.ylabel(\"Root Mean Squared Error\")\n",
        "\n",
        "  plt.plot(epochs, rmse, label=\"Loss\")\n",
        "  plt.legend()\n",
        "  plt.ylim([rmse.min()*0.97, rmse.max()])\n",
        "  plt.show()  \n",
        "\n",
        "print(\"Defined the plot_the_model and plot_the_loss_curve functions.\")"
      ],
      "execution_count": 15,
      "outputs": [
        {
          "output_type": "stream",
          "text": [
            "Defined the plot_the_model and plot_the_loss_curve functions.\n"
          ],
          "name": "stdout"
        }
      ]
    },
    {
      "cell_type": "code",
      "metadata": {
        "colab": {
          "base_uri": "https://localhost:8080/",
          "height": 1000
        },
        "id": "vHI2koEZXWXD",
        "outputId": "122467c3-5d8a-40b9-e032-e2f3a49afdbd"
      },
      "source": [
        "# The following variables are the hyperparameters.\r\n",
        "learning_rate = 0.01\r\n",
        "epochs = 30\r\n",
        "batch_size = 30\r\n",
        "\r\n",
        "# Specify the feature and the label.\r\n",
        "my_feature = \"total_rooms\"  # the total number of rooms on a specific city block.\r\n",
        "my_label=\"median_house_value\" # the median value of a house on a specific city block.\r\n",
        "# That is, you're going to create a model that predicts house value based \r\n",
        "# solely on total_rooms.  \r\n",
        "\r\n",
        "# Discard any pre-existing version of the model.\r\n",
        "my_model = None\r\n",
        "\r\n",
        "# Invoke the functions.\r\n",
        "my_model = build_model(learning_rate)\r\n",
        "weight, bias, epochs, rmse = train_model(my_model, training_df, \r\n",
        "                                         my_feature, my_label,\r\n",
        "                                         epochs, batch_size)\r\n",
        "\r\n",
        "print(\"\\nThe learned weight for your model is %.4f\" % weight)\r\n",
        "print(\"The learned bias for your model is %.4f\\n\" % bias )\r\n",
        "\r\n",
        "plot_the_model(weight, bias, my_feature, my_label)\r\n",
        "plot_the_loss_curve(epochs, rmse)"
      ],
      "execution_count": 20,
      "outputs": [
        {
          "output_type": "stream",
          "text": [
            "Epoch 1/30\n",
            "567/567 [==============================] - 1s 883us/step - loss: 1399159.6425 - root_mean_squared_error: 1092.3863\n",
            "Epoch 2/30\n",
            "567/567 [==============================] - 1s 882us/step - loss: 28752.1594 - root_mean_squared_error: 169.5437\n",
            "Epoch 3/30\n",
            "567/567 [==============================] - 1s 932us/step - loss: 28313.2729 - root_mean_squared_error: 168.2326\n",
            "Epoch 4/30\n",
            "567/567 [==============================] - 1s 979us/step - loss: 27547.0650 - root_mean_squared_error: 165.8634\n",
            "Epoch 5/30\n",
            "567/567 [==============================] - 1s 954us/step - loss: 26491.5603 - root_mean_squared_error: 162.7409\n",
            "Epoch 6/30\n",
            "567/567 [==============================] - 1s 943us/step - loss: 25815.3624 - root_mean_squared_error: 160.6194\n",
            "Epoch 7/30\n",
            "567/567 [==============================] - 1s 1ms/step - loss: 24588.5218 - root_mean_squared_error: 156.7972\n",
            "Epoch 8/30\n",
            "567/567 [==============================] - 1s 935us/step - loss: 23527.4873 - root_mean_squared_error: 153.3710\n",
            "Epoch 9/30\n",
            "567/567 [==============================] - 1s 1ms/step - loss: 23460.3348 - root_mean_squared_error: 153.1441\n",
            "Epoch 10/30\n",
            "567/567 [==============================] - 1s 954us/step - loss: 23616.9923 - root_mean_squared_error: 153.6017\n",
            "Epoch 11/30\n",
            "567/567 [==============================] - 1s 1ms/step - loss: 21734.1903 - root_mean_squared_error: 147.4153\n",
            "Epoch 12/30\n",
            "567/567 [==============================] - 1s 999us/step - loss: 21320.9316 - root_mean_squared_error: 146.0119\n",
            "Epoch 13/30\n",
            "567/567 [==============================] - 1s 921us/step - loss: 21532.0046 - root_mean_squared_error: 146.7122\n",
            "Epoch 14/30\n",
            "567/567 [==============================] - 1s 1ms/step - loss: 20752.6367 - root_mean_squared_error: 144.0519\n",
            "Epoch 15/30\n",
            "567/567 [==============================] - 1s 938us/step - loss: 20977.6347 - root_mean_squared_error: 144.8222\n",
            "Epoch 16/30\n",
            "567/567 [==============================] - 1s 933us/step - loss: 19074.2792 - root_mean_squared_error: 138.0992\n",
            "Epoch 17/30\n",
            "567/567 [==============================] - 1s 924us/step - loss: 19139.2271 - root_mean_squared_error: 138.3301\n",
            "Epoch 18/30\n",
            "567/567 [==============================] - 1s 969us/step - loss: 19203.4313 - root_mean_squared_error: 138.5360\n",
            "Epoch 19/30\n",
            "567/567 [==============================] - 1s 955us/step - loss: 18202.0999 - root_mean_squared_error: 134.9008\n",
            "Epoch 20/30\n",
            "567/567 [==============================] - 1s 1ms/step - loss: 17735.2843 - root_mean_squared_error: 133.1527\n",
            "Epoch 21/30\n",
            "567/567 [==============================] - 1s 931us/step - loss: 18021.9886 - root_mean_squared_error: 134.2247\n",
            "Epoch 22/30\n",
            "567/567 [==============================] - 1s 931us/step - loss: 17313.0678 - root_mean_squared_error: 131.5515\n",
            "Epoch 23/30\n",
            "567/567 [==============================] - 1s 1ms/step - loss: 16984.0880 - root_mean_squared_error: 130.3015\n",
            "Epoch 24/30\n",
            "567/567 [==============================] - 1s 928us/step - loss: 16476.8432 - root_mean_squared_error: 128.3508\n",
            "Epoch 25/30\n",
            "567/567 [==============================] - 1s 974us/step - loss: 16555.4809 - root_mean_squared_error: 128.6513\n",
            "Epoch 26/30\n",
            "567/567 [==============================] - 1s 966us/step - loss: 16441.8037 - root_mean_squared_error: 128.2156\n",
            "Epoch 27/30\n",
            "567/567 [==============================] - 1s 931us/step - loss: 15844.2540 - root_mean_squared_error: 125.8641\n",
            "Epoch 28/30\n",
            "567/567 [==============================] - 1s 940us/step - loss: 15837.3469 - root_mean_squared_error: 125.8415\n",
            "Epoch 29/30\n",
            "567/567 [==============================] - 1s 1ms/step - loss: 15247.5006 - root_mean_squared_error: 123.4446\n",
            "Epoch 30/30\n",
            "567/567 [==============================] - 1s 937us/step - loss: 15183.4778 - root_mean_squared_error: 123.1997\n",
            "\n",
            "The learned weight for your model is 0.0030\n",
            "The learned bias for your model is 131.2029\n",
            "\n"
          ],
          "name": "stdout"
        },
        {
          "output_type": "stream",
          "text": [
            "/usr/local/lib/python3.6/dist-packages/numpy/core/_asarray.py:136: VisibleDeprecationWarning: Creating an ndarray from ragged nested sequences (which is a list-or-tuple of lists-or-tuples-or ndarrays with different lengths or shapes) is deprecated. If you meant to do this, you must specify 'dtype=object' when creating the ndarray\n",
            "  return array(a, dtype, copy=False, order=order, subok=True)\n"
          ],
          "name": "stderr"
        },
        {
          "output_type": "display_data",
          "data": {
            "image/png": "[encoded data removed]",
            "text/plain": [
              "<Figure size 432x288 with 1 Axes>"
            ]
          },
          "metadata": {
            "tags": [],
            "needs_background": "light"
          }
        },
        {
          "output_type": "display_data",
          "data": {
            "image/png": "[encoded data removed]",
            "text/plain": [
              "<Figure size 432x288 with 1 Axes>"
            ]
          },
          "metadata": {
            "tags": [],
            "needs_background": "light"
          }
        }
      ]
    },
    {
      "cell_type": "code",
      "metadata": {
        "id": "9UOkx4nkXBGb"
      },
      "source": [
        "def predict_house_values(n, feature, label):\r\n",
        "  \"\"\"Predict house values based on a feature.\"\"\"\r\n",
        "\r\n",
        "  batch = training_df[feature][10000:10000 + n]\r\n",
        "  predicted_values = my_model.predict_on_batch(x=batch)\r\n",
        "\r\n",
        "  print(\"feature   label          predicted\")\r\n",
        "  print(\"  value   value          value\")\r\n",
        "  print(\"          in thousand$   in thousand$\")\r\n",
        "  print(\"--------------------------------------\")\r\n",
        "  for i in range(n):\r\n",
        "    print (\"%5.0f %6.0f %15.0f\" % (training_df[feature][10000 + i],\r\n",
        "                                   training_df[label][10000 + i],\r\n",
        "                                   predicted_values[i][0] ))"
      ],
      "execution_count": 21,
      "outputs": []
    },
    {
      "cell_type": "code",
      "metadata": {
        "colab": {
          "base_uri": "https://localhost:8080/"
        },
        "id": "qYnmVo_9XGJa",
        "outputId": "c8748a2d-6d24-4c85-b7c5-75d8e36b3a33"
      },
      "source": [
        "predict_house_values(10, my_feature, my_label)"
      ],
      "execution_count": 22,
      "outputs": [
        {
          "output_type": "stream",
          "text": [
            "feature   label          predicted\n",
            "  value   value          value\n",
            "          in thousand$   in thousand$\n",
            "--------------------------------------\n",
            " 1960     53             137\n",
            " 3400     92             141\n",
            " 3677     69             142\n",
            " 2202     62             138\n",
            " 2403     80             138\n",
            " 5652    295             148\n",
            " 3318    500             141\n",
            " 2552    342             139\n",
            " 1364    118             135\n",
            " 3468    128             141\n"
          ],
          "name": "stdout"
        }
      ]
    },
    {
      "cell_type": "code",
      "metadata": {
        "colab": {
          "base_uri": "https://localhost:8080/",
          "height": 1000
        },
        "id": "E0x75EBqYLzq",
        "outputId": "90658c5c-a366-4d74-8f3e-4de4d1005f67"
      },
      "source": [
        "my_feature = \"population\" \r\n",
        "\r\n",
        "learning_rate = 0.05\r\n",
        "epochs = 18\r\n",
        "batch_size = 3\r\n",
        "\r\n",
        "# Invoke the functions.\r\n",
        "my_model = build_model(learning_rate)\r\n",
        "weight, bias, epochs, rmse = train_model(my_model, training_df, \r\n",
        "                                         my_feature, my_label,\r\n",
        "                                         epochs, batch_size)\r\n",
        "\r\n",
        "plot_the_model(weight, bias, my_feature, my_label)\r\n",
        "plot_the_loss_curve(epochs, rmse)\r\n",
        "\r\n",
        "predict_house_values(15, my_feature, my_label)"
      ],
      "execution_count": 24,
      "outputs": [
        {
          "output_type": "stream",
          "text": [
            "Epoch 1/18\n",
            "5667/5667 [==============================] - 6s 965us/step - loss: 32847.9792 - root_mean_squared_error: 181.0048\n",
            "Epoch 2/18\n",
            "5667/5667 [==============================] - 6s 1ms/step - loss: 20979.4598 - root_mean_squared_error: 144.7516\n",
            "Epoch 3/18\n",
            "5667/5667 [==============================] - 6s 1ms/step - loss: 18696.4590 - root_mean_squared_error: 136.7153\n",
            "Epoch 4/18\n",
            "5667/5667 [==============================] - 5s 956us/step - loss: 17981.7927 - root_mean_squared_error: 134.0803\n",
            "Epoch 5/18\n",
            "5667/5667 [==============================] - 6s 977us/step - loss: 18469.7753 - root_mean_squared_error: 135.8980\n",
            "Epoch 6/18\n",
            "5667/5667 [==============================] - 5s 949us/step - loss: 18211.7632 - root_mean_squared_error: 134.9239\n",
            "Epoch 7/18\n",
            "5667/5667 [==============================] - 5s 948us/step - loss: 17865.3136 - root_mean_squared_error: 133.6264\n",
            "Epoch 8/18\n",
            "5667/5667 [==============================] - 5s 966us/step - loss: 17863.5136 - root_mean_squared_error: 133.6426\n",
            "Epoch 9/18\n",
            "5667/5667 [==============================] - 5s 939us/step - loss: 18048.3720 - root_mean_squared_error: 134.3242\n",
            "Epoch 10/18\n",
            "5667/5667 [==============================] - 5s 947us/step - loss: 18356.2698 - root_mean_squared_error: 135.4688\n",
            "Epoch 11/18\n",
            "5667/5667 [==============================] - 5s 941us/step - loss: 18169.8936 - root_mean_squared_error: 134.7859\n",
            "Epoch 12/18\n",
            "5667/5667 [==============================] - 5s 961us/step - loss: 18075.0570 - root_mean_squared_error: 134.4233\n",
            "Epoch 13/18\n",
            "5667/5667 [==============================] - 5s 951us/step - loss: 17746.8802 - root_mean_squared_error: 133.1909\n",
            "Epoch 14/18\n",
            "5667/5667 [==============================] - 5s 945us/step - loss: 18300.8064 - root_mean_squared_error: 135.2450\n",
            "Epoch 15/18\n",
            "5667/5667 [==============================] - 5s 960us/step - loss: 17962.5797 - root_mean_squared_error: 134.0102\n",
            "Epoch 16/18\n",
            "5667/5667 [==============================] - 5s 970us/step - loss: 17655.1558 - root_mean_squared_error: 132.8603\n",
            "Epoch 17/18\n",
            "5667/5667 [==============================] - 5s 951us/step - loss: 17648.1755 - root_mean_squared_error: 132.8324\n",
            "Epoch 18/18\n",
            "5667/5667 [==============================] - 5s 959us/step - loss: 17815.1468 - root_mean_squared_error: 133.4282\n"
          ],
          "name": "stdout"
        },
        {
          "output_type": "stream",
          "text": [
            "/usr/local/lib/python3.6/dist-packages/numpy/core/_asarray.py:136: VisibleDeprecationWarning: Creating an ndarray from ragged nested sequences (which is a list-or-tuple of lists-or-tuples-or ndarrays with different lengths or shapes) is deprecated. If you meant to do this, you must specify 'dtype=object' when creating the ndarray\n",
            "  return array(a, dtype, copy=False, order=order, subok=True)\n"
          ],
          "name": "stderr"
        },
        {
          "output_type": "display_data",
          "data": {
            "image/png": "[encoded data removed]",
            "text/plain": [
              "<Figure size 432x288 with 1 Axes>"
            ]
          },
          "metadata": {
            "tags": [],
            "needs_background": "light"
          }
        },
        {
          "output_type": "display_data",
          "data": {
            "image/png": "[encoded data removed]",
            "text/plain": [
              "<Figure size 432x288 with 1 Axes>"
            ]
          },
          "metadata": {
            "tags": [],
            "needs_background": "light"
          }
        },
        {
          "output_type": "stream",
          "text": [
            "feature   label          predicted\n",
            "  value   value          value\n",
            "          in thousand$   in thousand$\n",
            "--------------------------------------\n",
            " 1286     53             344\n",
            " 1867     92             406\n",
            " 2191     69             441\n",
            " 1052     62             319\n",
            " 1647     80             383\n",
            " 2312    295             453\n",
            " 1604    500             378\n",
            " 1066    342             321\n",
            "  338    118             243\n",
            " 1604    128             378\n",
            " 1200    187             335\n",
            "  292     80             239\n",
            " 2014    112             422\n",
            " 1817     95             401\n",
            " 1328     69             349\n"
          ],
          "name": "stdout"
        }
      ]
    },
    {
      "cell_type": "markdown",
      "metadata": {
        "id": "WPj-S0MtZCGp"
      },
      "source": [
        "population and total_rooms are not useful feature"
      ]
    },
    {
      "cell_type": "code",
      "metadata": {
        "colab": {
          "base_uri": "https://localhost:8080/",
          "height": 1000
        },
        "id": "gwmfroZ-ZJCh",
        "outputId": "b7dc9844-d3d4-4db3-8f7f-bf36ac1789e6"
      },
      "source": [
        "# Define a synthetic feature named rooms_per_person\r\n",
        "training_df[\"rooms_per_person\"] = training_df[\"total_rooms\"] / training_df[\"population\"]\r\n",
        "\r\n",
        "# Don't change the next line.\r\n",
        "my_feature = \"rooms_per_person\"\r\n",
        "\r\n",
        "# Assign values to these three hyperparameters.\r\n",
        "learning_rate = 0.06\r\n",
        "epochs = 24\r\n",
        "batch_size = 30\r\n",
        "\r\n",
        "# Don't change anything below this line.\r\n",
        "my_model = build_model(learning_rate)\r\n",
        "weight, bias, epochs, rmse = train_model(my_model, training_df,\r\n",
        "                                         my_feature, my_label,\r\n",
        "                                         epochs, batch_size)\r\n",
        "\r\n",
        "plot_the_loss_curve(epochs, rmse)\r\n",
        "predict_house_values(15, my_feature, my_label)"
      ],
      "execution_count": 29,
      "outputs": [
        {
          "output_type": "stream",
          "text": [
            "Epoch 1/24\n",
            "567/567 [==============================] - 1s 887us/step - loss: 47066.2517 - root_mean_squared_error: 216.5577\n",
            "Epoch 2/24\n",
            "567/567 [==============================] - 1s 878us/step - loss: 22161.2931 - root_mean_squared_error: 148.7006\n",
            "Epoch 3/24\n",
            "567/567 [==============================] - 1s 933us/step - loss: 14721.7847 - root_mean_squared_error: 121.2855\n",
            "Epoch 4/24\n",
            "567/567 [==============================] - 1s 950us/step - loss: 14202.1287 - root_mean_squared_error: 119.0561\n",
            "Epoch 5/24\n",
            "567/567 [==============================] - 1s 920us/step - loss: 14969.8328 - root_mean_squared_error: 122.2451\n",
            "Epoch 6/24\n",
            "567/567 [==============================] - 1s 965us/step - loss: 14789.4994 - root_mean_squared_error: 121.5000\n",
            "Epoch 7/24\n",
            "567/567 [==============================] - 1s 945us/step - loss: 14703.0106 - root_mean_squared_error: 121.1673\n",
            "Epoch 8/24\n",
            "567/567 [==============================] - 1s 953us/step - loss: 12947.1706 - root_mean_squared_error: 113.7251\n",
            "Epoch 9/24\n",
            "567/567 [==============================] - 1s 933us/step - loss: 13458.4511 - root_mean_squared_error: 115.9735\n",
            "Epoch 10/24\n",
            "567/567 [==============================] - 1s 973us/step - loss: 13783.0542 - root_mean_squared_error: 117.3648\n",
            "Epoch 11/24\n",
            "567/567 [==============================] - 1s 1ms/step - loss: 13148.0400 - root_mean_squared_error: 114.5965\n",
            "Epoch 12/24\n",
            "567/567 [==============================] - 1s 996us/step - loss: 13123.5943 - root_mean_squared_error: 114.5318\n",
            "Epoch 13/24\n",
            "567/567 [==============================] - 1s 911us/step - loss: 14047.3898 - root_mean_squared_error: 118.4949\n",
            "Epoch 14/24\n",
            "567/567 [==============================] - 1s 968us/step - loss: 13654.3051 - root_mean_squared_error: 116.8309\n",
            "Epoch 15/24\n",
            "567/567 [==============================] - 1s 970us/step - loss: 13107.1278 - root_mean_squared_error: 114.4658\n",
            "Epoch 16/24\n",
            "567/567 [==============================] - 1s 963us/step - loss: 13976.3301 - root_mean_squared_error: 118.2029\n",
            "Epoch 17/24\n",
            "567/567 [==============================] - 1s 1ms/step - loss: 14130.3308 - root_mean_squared_error: 117.9321\n",
            "Epoch 18/24\n",
            "567/567 [==============================] - 1s 973us/step - loss: 12952.3644 - root_mean_squared_error: 113.7435\n",
            "Epoch 19/24\n",
            "567/567 [==============================] - 1s 971us/step - loss: 12712.5793 - root_mean_squared_error: 112.6827\n",
            "Epoch 20/24\n",
            "567/567 [==============================] - 1s 937us/step - loss: 12664.9419 - root_mean_squared_error: 112.5233\n",
            "Epoch 21/24\n",
            "567/567 [==============================] - 1s 957us/step - loss: 13090.0067 - root_mean_squared_error: 114.3916\n",
            "Epoch 22/24\n",
            "567/567 [==============================] - 1s 948us/step - loss: 12916.3852 - root_mean_squared_error: 113.6227\n",
            "Epoch 23/24\n",
            "567/567 [==============================] - 1s 946us/step - loss: 12659.6607 - root_mean_squared_error: 112.4925\n",
            "Epoch 24/24\n",
            "567/567 [==============================] - 1s 943us/step - loss: 13120.9184 - root_mean_squared_error: 114.5127\n"
          ],
          "name": "stdout"
        },
        {
          "output_type": "display_data",
          "data": {
            "image/png": "[encoded data removed]",
            "text/plain": [
              "<Figure size 432x288 with 1 Axes>"
            ]
          },
          "metadata": {
            "tags": [],
            "needs_background": "light"
          }
        },
        {
          "output_type": "stream",
          "text": [
            "WARNING:tensorflow:5 out of the last 5 calls to <function Model.make_predict_function.<locals>.predict_function at 0x7f3b3d0b76a8> triggered tf.function retracing. Tracing is expensive and the excessive number of tracings could be due to (1) creating @tf.function repeatedly in a loop, (2) passing tensors with different shapes, (3) passing Python objects instead of tensors. For (1), please define your @tf.function outside of the loop. For (2), @tf.function has experimental_relax_shapes=True option that relaxes argument shapes that can avoid unnecessary retracing. For (3), please refer to https://www.tensorflow.org/guide/function#controlling_retracing and https://www.tensorflow.org/api_docs/python/tf/function for  more details.\n",
            "feature   label          predicted\n",
            "  value   value          value\n",
            "          in thousand$   in thousand$\n",
            "--------------------------------------\n",
            "    2     53             191\n",
            "    2     92             203\n",
            "    2     69             197\n",
            "    2     62             213\n",
            "    1     80             189\n",
            "    2    295             227\n",
            "    2    500             212\n",
            "    2    342             225\n",
            "    4    118             288\n",
            "    2    128             216\n",
            "    2    187             226\n",
            "    3     80             236\n",
            "    2    112             227\n",
            "    2     95             221\n",
            "    2     69             213\n"
          ],
          "name": "stdout"
        }
      ]
    },
    {
      "cell_type": "markdown",
      "metadata": {
        "id": "uWJQkc-hZxgx"
      },
      "source": [
        "##### correlation matrix\r\n",
        "* how each attribute's raw values relate to the other attributees' raw values\r\n",
        "* 1.0 : perfect positive correlation(if one attributes rises, the other attributes rises)\r\n",
        "* -0.1 : perfect negative correlation(if one attribute rises, the other attribute falls)\r\n",
        "* 0 : no correlation"
      ]
    },
    {
      "cell_type": "code",
      "metadata": {
        "colab": {
          "base_uri": "https://localhost:8080/",
          "height": 343
        },
        "id": "wi0tyKVtaQo2",
        "outputId": "cdc184d0-e9c4-4358-ba14-9a2af6e8780c"
      },
      "source": [
        "training_df.corr()"
      ],
      "execution_count": 30,
      "outputs": [
        {
          "output_type": "execute_result",
          "data": {
            "text/html": [
              "<div>\n",
              "<style scoped>\n",
              "    .dataframe tbody tr th:only-of-type {\n",
              "        vertical-align: middle;\n",
              "    }\n",
              "\n",
              "    .dataframe tbody tr th {\n",
              "        vertical-align: top;\n",
              "    }\n",
              "\n",
              "    .dataframe thead th {\n",
              "        text-align: right;\n",
              "    }\n",
              "</style>\n",
              "<table border=\"1\" class=\"dataframe\">\n",
              "  <thead>\n",
              "    <tr style=\"text-align: right;\">\n",
              "      <th></th>\n",
              "      <th>longitude</th>\n",
              "      <th>latitude</th>\n",
              "      <th>housing_median_age</th>\n",
              "      <th>total_rooms</th>\n",
              "      <th>total_bedrooms</th>\n",
              "      <th>population</th>\n",
              "      <th>households</th>\n",
              "      <th>median_income</th>\n",
              "      <th>median_house_value</th>\n",
              "      <th>rooms_per_person</th>\n",
              "    </tr>\n",
              "  </thead>\n",
              "  <tbody>\n",
              "    <tr>\n",
              "      <th>longitude</th>\n",
              "      <td>1.000000</td>\n",
              "      <td>-0.925208</td>\n",
              "      <td>-0.114250</td>\n",
              "      <td>0.047010</td>\n",
              "      <td>0.071802</td>\n",
              "      <td>0.101674</td>\n",
              "      <td>0.059628</td>\n",
              "      <td>-0.015485</td>\n",
              "      <td>-0.044982</td>\n",
              "      <td>-0.077773</td>\n",
              "    </tr>\n",
              "    <tr>\n",
              "      <th>latitude</th>\n",
              "      <td>-0.925208</td>\n",
              "      <td>1.000000</td>\n",
              "      <td>0.016454</td>\n",
              "      <td>-0.038773</td>\n",
              "      <td>-0.069373</td>\n",
              "      <td>-0.111261</td>\n",
              "      <td>-0.074902</td>\n",
              "      <td>-0.080303</td>\n",
              "      <td>-0.144917</td>\n",
              "      <td>0.143017</td>\n",
              "    </tr>\n",
              "    <tr>\n",
              "      <th>housing_median_age</th>\n",
              "      <td>-0.114250</td>\n",
              "      <td>0.016454</td>\n",
              "      <td>1.000000</td>\n",
              "      <td>-0.360984</td>\n",
              "      <td>-0.320434</td>\n",
              "      <td>-0.295890</td>\n",
              "      <td>-0.302754</td>\n",
              "      <td>-0.115932</td>\n",
              "      <td>0.106758</td>\n",
              "      <td>-0.103655</td>\n",
              "    </tr>\n",
              "    <tr>\n",
              "      <th>total_rooms</th>\n",
              "      <td>0.047010</td>\n",
              "      <td>-0.038773</td>\n",
              "      <td>-0.360984</td>\n",
              "      <td>1.000000</td>\n",
              "      <td>0.928403</td>\n",
              "      <td>0.860170</td>\n",
              "      <td>0.919018</td>\n",
              "      <td>0.195383</td>\n",
              "      <td>0.130991</td>\n",
              "      <td>0.121001</td>\n",
              "    </tr>\n",
              "    <tr>\n",
              "      <th>total_bedrooms</th>\n",
              "      <td>0.071802</td>\n",
              "      <td>-0.069373</td>\n",
              "      <td>-0.320434</td>\n",
              "      <td>0.928403</td>\n",
              "      <td>1.000000</td>\n",
              "      <td>0.881169</td>\n",
              "      <td>0.980920</td>\n",
              "      <td>-0.013495</td>\n",
              "      <td>0.045783</td>\n",
              "      <td>0.047811</td>\n",
              "    </tr>\n",
              "    <tr>\n",
              "      <th>population</th>\n",
              "      <td>0.101674</td>\n",
              "      <td>-0.111261</td>\n",
              "      <td>-0.295890</td>\n",
              "      <td>0.860170</td>\n",
              "      <td>0.881169</td>\n",
              "      <td>1.000000</td>\n",
              "      <td>0.909247</td>\n",
              "      <td>-0.000638</td>\n",
              "      <td>-0.027850</td>\n",
              "      <td>-0.140277</td>\n",
              "    </tr>\n",
              "    <tr>\n",
              "      <th>households</th>\n",
              "      <td>0.059628</td>\n",
              "      <td>-0.074902</td>\n",
              "      <td>-0.302754</td>\n",
              "      <td>0.919018</td>\n",
              "      <td>0.980920</td>\n",
              "      <td>0.909247</td>\n",
              "      <td>1.000000</td>\n",
              "      <td>0.007644</td>\n",
              "      <td>0.061031</td>\n",
              "      <td>-0.034049</td>\n",
              "    </tr>\n",
              "    <tr>\n",
              "      <th>median_income</th>\n",
              "      <td>-0.015485</td>\n",
              "      <td>-0.080303</td>\n",
              "      <td>-0.115932</td>\n",
              "      <td>0.195383</td>\n",
              "      <td>-0.013495</td>\n",
              "      <td>-0.000638</td>\n",
              "      <td>0.007644</td>\n",
              "      <td>1.000000</td>\n",
              "      <td>0.691871</td>\n",
              "      <td>0.232667</td>\n",
              "    </tr>\n",
              "    <tr>\n",
              "      <th>median_house_value</th>\n",
              "      <td>-0.044982</td>\n",
              "      <td>-0.144917</td>\n",
              "      <td>0.106758</td>\n",
              "      <td>0.130991</td>\n",
              "      <td>0.045783</td>\n",
              "      <td>-0.027850</td>\n",
              "      <td>0.061031</td>\n",
              "      <td>0.691871</td>\n",
              "      <td>1.000000</td>\n",
              "      <td>0.206969</td>\n",
              "    </tr>\n",
              "    <tr>\n",
              "      <th>rooms_per_person</th>\n",
              "      <td>-0.077773</td>\n",
              "      <td>0.143017</td>\n",
              "      <td>-0.103655</td>\n",
              "      <td>0.121001</td>\n",
              "      <td>0.047811</td>\n",
              "      <td>-0.140277</td>\n",
              "      <td>-0.034049</td>\n",
              "      <td>0.232667</td>\n",
              "      <td>0.206969</td>\n",
              "      <td>1.000000</td>\n",
              "    </tr>\n",
              "  </tbody>\n",
              "</table>\n",
              "</div>"
            ],
            "text/plain": [
              "                    longitude  latitude  ...  median_house_value  rooms_per_person\n",
              "longitude            1.000000 -0.925208  ...           -0.044982         -0.077773\n",
              "latitude            -0.925208  1.000000  ...           -0.144917          0.143017\n",
              "housing_median_age  -0.114250  0.016454  ...            0.106758         -0.103655\n",
              "total_rooms          0.047010 -0.038773  ...            0.130991          0.121001\n",
              "total_bedrooms       0.071802 -0.069373  ...            0.045783          0.047811\n",
              "population           0.101674 -0.111261  ...           -0.027850         -0.140277\n",
              "households           0.059628 -0.074902  ...            0.061031         -0.034049\n",
              "median_income       -0.015485 -0.080303  ...            0.691871          0.232667\n",
              "median_house_value  -0.044982 -0.144917  ...            1.000000          0.206969\n",
              "rooms_per_person    -0.077773  0.143017  ...            0.206969          1.000000\n",
              "\n",
              "[10 rows x 10 columns]"
            ]
          },
          "metadata": {
            "tags": []
          },
          "execution_count": 30
        }
      ]
    },
    {
      "cell_type": "markdown",
      "metadata": {
        "id": "asX4X1I9ad8_"
      },
      "source": [
        "median_income and median_house_value has correlation(0.7)"
      ]
    },
    {
      "cell_type": "code",
      "metadata": {
        "id": "7fI97Cosalfp"
      },
      "source": [
        ""
      ],
      "execution_count": null,
      "outputs": []
    }
  ]
}