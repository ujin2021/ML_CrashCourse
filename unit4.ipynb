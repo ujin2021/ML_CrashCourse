{
  "nbformat": 4,
  "nbformat_minor": 0,
  "metadata": {
    "colab": {
      "name": "unit4.ipynb",
      "provenance": [],
      "collapsed_sections": [],
      "authorship_tag": "ABX9TyMDL7gr7wqGbh2cx5PiQ/Hw",
      "include_colab_link": true
    },
    "kernelspec": {
      "name": "python3",
      "display_name": "Python 3"
    }
  },
  "cells": [
    {
      "cell_type": "markdown",
      "metadata": {
        "id": "view-in-github",
        "colab_type": "text"
      },
      "source": [
        "<a href=\"https://colab.research.google.com/github/ujin2021/ML_CrashCourse/blob/main/unit4.ipynb\" target=\"_parent\"><img src=\"https://colab.research.google.com/assets/colab-badge.svg\" alt=\"Open In Colab\"/></a>"
      ]
    },
    {
      "cell_type": "markdown",
      "metadata": {
        "id": "skPR7aOyezhD"
      },
      "source": [
        "### Generalization\r\n",
        "* model은 가능한 간단해야한다\r\n",
        "\r\n",
        "#### Peril of Overfitting\r\n",
        "* data(orange : healthy tree, blue : sick tree) <br>\r\n",
        "![image](https://user-images.githubusercontent.com/53362054/103408065-581dcd80-4ba4-11eb-8914-33635c6a4637.png)\r\n",
        "\r\n",
        "* model(complex, overfit) <br>\r\n",
        "![image](https://user-images.githubusercontent.com/53362054/103408074-623fcc00-4ba4-11eb-8691-70701fcb48cc.png)\r\n",
        "\r\n",
        "* new data <br>\r\n",
        "![image](https://user-images.githubusercontent.com/53362054/103408085-6835ad00-4ba4-11eb-85a2-4bdd52211f85.png)\r\n",
        "  * model adapted very poorly to new data\r\n",
        "\r\n",
        "* 필요이상으로 복잡한 모델은(overfit, 과적합 모델) 현재의 샘플에는 좋은 prediction을 갖지만, 새로운 데이터를 예측하는데는 어렵다.\r\n",
        "* 머신러닝의 목적은 새로운 데이터를 잘 예측하는 것\r\n",
        "\r\n",
        "* divide data set into two subset : training set / test set\r\n",
        "  * training set : a subset to train a model\r\n",
        "  * test set : a subset to test the model\r\n",
        "\r\n",
        "* test set에서의 좋은 성능은 새로운 데이터 예측의 좋은 성능의 유용한 지표가 된다\r\n",
        "\r\n",
        "* 분포에서 독립적이고 동일하게 임의의 예를 추출한다\r\n",
        "* 분포가 정상성을 보여야 한다. 데이터 세트내에서 분포가 달라지지 않는다\r\n",
        "* 같은 분포를 따르는 부분에서 예를 추출한다\r\n",
        "\r\n"
      ]
    },
    {
      "cell_type": "code",
      "metadata": {
        "id": "-K9fcdiQiICu"
      },
      "source": [
        ""
      ],
      "execution_count": null,
      "outputs": []
    }
  ]
}