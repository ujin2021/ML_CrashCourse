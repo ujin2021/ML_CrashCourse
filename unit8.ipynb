{
  "nbformat": 4,
  "nbformat_minor": 0,
  "metadata": {
    "colab": {
      "name": "unit8.ipynb",
      "provenance": [],
      "collapsed_sections": [],
      "authorship_tag": "ABX9TyMGKZnLKFpPBN0yjw9eztqb",
      "include_colab_link": true
    },
    "kernelspec": {
      "name": "python3",
      "display_name": "Python 3"
    }
  },
  "cells": [
    {
      "cell_type": "markdown",
      "metadata": {
        "id": "view-in-github",
        "colab_type": "text"
      },
      "source": [
        "<a href=\"https://colab.research.google.com/github/ujin2021/ML_CrashCourse/blob/main/unit8.ipynb\" target=\"_parent\"><img src=\"https://colab.research.google.com/assets/colab-badge.svg\" alt=\"Open In Colab\"/></a>"
      ]
    },
    {
      "cell_type": "markdown",
      "metadata": {
        "id": "F0YyR6GPXdHb"
      },
      "source": [
        "### 특성교차\r\n",
        "* 선형적 학습자에 비선형적 학습을 통합할 수 있다\r\n",
        "\r\n",
        "<br>\r\n",
        "\r\n",
        "![image](https://user-images.githubusercontent.com/53362054/103458676-cce03b80-4d4d-11eb-90fc-1ccfb2d19c99.png)\r\n",
        "<br>\r\n",
        "* 위와 같은 데이터가 있다고 했을 때, 어떤 선을 그려도 두 데이터(노란색 점, 파란색 점)을 나눌 수 없다\r\n",
        "* 이를 해결하기 위해 특성교차를 사용한다\r\n",
        "* x, y축을 그렸을 때, 파란점은 xy > 0이고, 노란점은 xy < 0이다.\r\n",
        "* x₃을 x₁과 x₂의 곱(교차곱)으로 표현하고, 특성교차라고 한다\r\n",
        "* y = b + w₁x₁ + w₂x₂+ w₃x₃으로 나타낸다\r\n",
        "\r\n"
      ]
    },
    {
      "cell_type": "markdown",
      "metadata": {
        "id": "TTKDyp6LZvSS"
      },
      "source": [
        "#### 원-핫 벡터 교차\r\n",
        "* 위에서는 연속 특성을 교차(실제 머신러닝 모델에서 연속특성 교차는 잘 없다)\r\n",
        "* 원-핫 특성 벡터 교차 하는 경우는 많다\r\n",
        "\r\n",
        "* 예시\r\n",
        "  * binned_latitude = [0, 0, 0, 1, 0]\r\n",
        "  * binned_longitude = [0, 1, 0, 0, 0]\r\n",
        "  * 두 벡터의 특성교차 : binned_latitude x binned_longitude\r\n",
        "  * 이 특성교차는 25개의 요소로 구성된 원-핫 벡터\r\n",
        "\r\n",
        "* 예시 2\r\n",
        "  * 두가지 특성을 기반으로 개의 주인이 개에 만족하는 정도 예측\r\n",
        "  * 행동유형(짖기, 울기, 달라붙기\r\n",
        "  * 시간\r\n",
        "  * 두 벡터의 특성교차 : [behavior type x time of day]\r\n",
        "  * 특성을 하나만 사용하는 경우보다 훨씬 효과적으로 예측가능하다\r\n",
        "  * 예를들어 주인이 퇴근하는 오후 5시에 개가 울면 주인이 아주 만족할 것, 주인이 잠은 오전3시에 울면 주인이 만족하지 못할 것"
      ]
    },
    {
      "cell_type": "code",
      "metadata": {
        "id": "N0Z8gnAJXaQO"
      },
      "source": [
        ""
      ],
      "execution_count": null,
      "outputs": []
    }
  ]
}