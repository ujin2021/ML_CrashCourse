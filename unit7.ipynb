{
  "nbformat": 4,
  "nbformat_minor": 0,
  "metadata": {
    "colab": {
      "name": "unit7.ipynb",
      "provenance": [],
      "collapsed_sections": [],
      "authorship_tag": "ABX9TyMgSzPXosymZ8wsbylJqXib",
      "include_colab_link": true
    },
    "kernelspec": {
      "name": "python3",
      "display_name": "Python 3"
    }
  },
  "cells": [
    {
      "cell_type": "markdown",
      "metadata": {
        "id": "view-in-github",
        "colab_type": "text"
      },
      "source": [
        "<a href=\"https://colab.research.google.com/github/ujin2021/ML_CrashCourse/blob/main/unit7.ipynb\" target=\"_parent\"><img src=\"https://colab.research.google.com/assets/colab-badge.svg\" alt=\"Open In Colab\"/></a>"
      ]
    },
    {
      "cell_type": "markdown",
      "metadata": {
        "id": "aGzMFCDNPY-K"
      },
      "source": [
        "### 특성추출\r\n",
        "* 원시 데이터에서 특성을 추출하여 특성벡터로 변환하는 과정\r\n",
        "* 실제 값으로 표현할 수 있는 기록 : 특성벡터(feature vector)로 사용할 수 있다(방의 수)\r\n",
        "* 문자열과 같은 경우 원-핫 인코딩 사용\r\n",
        "  * 문자열 마다 고유 계수가 생긴다\r\n",
        "* 좋은 특성이란 ? \r\n",
        "  * 0이 아닌 값으로 최소 몇 차례 이상 나타나야 함\r\n",
        "  * 특성은 분명하고 명확한 의미를 가져야 한다\r\n",
        "  * 특이한 값을 가져서는 안된다\r\n",
        "* 특성의 정의 여부는 boolean으로 정의\r\n",
        "* 시간이 지남에 따라 특성 값이 변하면 안된다(데이터의 정상성)\r\n",
        "* 이상점 값을 가지면 안된다"
      ]
    },
    {
      "cell_type": "markdown",
      "metadata": {
        "id": "mh9DsdwoPjLF"
      },
      "source": [
        "#### 원시 데이터를 특성에 매핑\r\n",
        "* 실수값 feature는 그대로 사용 가능\r\n",
        "* 범주값 매핑\r\n",
        "  * Charleston Road는 0으로 매핑\r\n",
        "  * North Shoreline Boulevard는 1로 매핑 ...\r\n",
        "  * 하지만 이렇게 매핑했을 때, 가중치를 곱할때 문제가 생김 => 바이너리 벡터를 생성\r\n",
        "* 단일 값이 1일 때 : 원-핫 인코딩\r\n",
        "  * [0, 0, 0, 1, 0]\r\n",
        "* 여러 값이 `일 때 : 멀티-핫 인코딩\r\n"
      ]
    },
    {
      "cell_type": "markdown",
      "metadata": {
        "id": "_HmtZk_vR7j5"
      },
      "source": [
        "#### 좋은 특성의 조건\r\n",
        "* 좋은 특성 값은 데이터 세트에서 5회이상 나타나야 한다\r\n",
        "  * 예를 들어 house_type과 같이 여러 번 나타나는 것은 학습하기 쉽다\r\n",
        "  * unique_house_id와 같이 한번만 사용되는 값들은 모델에서 어떠한 학습도 불가능하다\r\n",
        "* 각 특성은 명확하고 분명한 의미를 가져야 한다\r\n",
        "  * house_age : 27 (좋은특성)\r\n",
        "  * house_age :  851472000 (다른 사람은 알아보기 어렵다)\r\n",
        "  * hosue_age : 277 과 같이 데이터의 노이즈로 불명확해질 수 있다\r\n",
        "* 특수 값을 실제 데이터와 혼용하지 않는다\r\n",
        "  * quality_rating : 0.82\r\n",
        "  * quality_rating : 0.37\r\n",
        "  * quality_rating : -1 (입력하지 않은 경우)\r\n",
        "  * 이렇게 되면 -1은 특수값이 된다.\r\n",
        "  * quality_rating이 입력되었는지 여부를 나타내는 특성을 따로 생성한다\r\n",
        "\r\n",
        "* 특성의 정의는 시간이 지나도 변하지 않아야 한다\r\n",
        "  * 도시이름과 같이 일반적으로 바뀌지 않는 값은 유용하다"
      ]
    },
    {
      "cell_type": "markdown",
      "metadata": {
        "id": "WE7UOeksThC5"
      },
      "source": [
        "#### 데이터 정제\r\n",
        "##### 특성값 조정\r\n",
        "* 부동 소수점 특성값을 100\\~900 등 자연범위에서 0\\~1 또는 -1\\~+1 로 변환한다\r\n",
        "* 특성 세트가 단일 세트라면 별 이득은 없지만, 여러 특성으로 구성되었다면 이점이 있다\r\n",
        "  * 경사 하강법이 더 빠르게 수렴된다\r\n",
        "  * 'NaN 트랩'이 방지된다. (NaN : 부동소수점 정밀도 한도를 초과하는 경우)\r\n",
        "  * 모델이 각 특성의 적절한 가중치를 익히는데 도움이 됨\r\n",
        "\r\n",
        "##### 극단적 이상점 정리\r\n",
        "* 예를 들어 roomsPerPerson이라는 특성을 나타낸 그래프에서 1인당 방이 50개 라는 특성을 가진 개체가 있다\r\n",
        "* 이상점의 영향 최소화 하기\r\n",
        "  * 모든 값에 로그를 취하기(나아지지만 여전히 이상값 존재)\r\n",
        "  * 최대값을 두어 잘라서 제한을 둔다(예를들어 최대값을 4로 정했다면, 짤린 이후의 숫자들은 4로 인식하겠다는 의미)\r\n",
        "\r\n",
        "##### 비닝(binning)\r\n",
        "* 위도와 주택값 사이에 선형적인 관계가 없다. \r\n",
        "  * 예를들어 위도 35도에 위치한 주택이 위도 34도에 위치한 주택보다 35/34만큼 비싸거나 싸지 않다.\r\n",
        "  * 하지만 각각의 위도값은 주택가격을 예측하는 좋은 지표일 가능성이 높다\r\n",
        "* 따라서 위도를 여러 bin으로 나눈다\r\n",
        "  * latitudeBin1 = 32 < 위도 < 33 과 같이\r\n",
        "  * 이렇게 하면 위도 37.4도를 [0, 0, 0, 0, 0, 1, 0, 0, 0, 0, 0]와 같이 나타낼 수 있다\r\n",
        "\r\n",
        "##### 스크러빙\r\n",
        "* 실무에서는 다음과 같은 이유로 신뢰할 수 없는 데이터가 만들어 질 수 있다\r\n",
        "  * 값 누락\r\n",
        "  * 중복 예\r\n",
        "  * 잘못된 라벨\r\n",
        "  * 잘못된 특성 값\r\n",
        "* 이러한 잘못된 데이터를 탐지해야 한다.\r\n",
        "  * 최대 및 최소\r\n",
        "  * 평균 및 중앙값\r\n",
        "  * 표준 편차\r\n",
        "  * 와 같은 통계를 통해 잘못된 값을 탐지할 수 있다\r\n"
      ]
    },
    {
      "cell_type": "code",
      "metadata": {
        "id": "DpAvUr8kV8Se"
      },
      "source": [
        ""
      ],
      "execution_count": null,
      "outputs": []
    }
  ]
}