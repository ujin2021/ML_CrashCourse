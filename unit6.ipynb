{
  "nbformat": 4,
  "nbformat_minor": 0,
  "metadata": {
    "colab": {
      "name": "unit6.ipynb",
      "provenance": [],
      "collapsed_sections": [],
      "authorship_tag": "ABX9TyOb/bCIrrOOt+e3AxEilwyO",
      "include_colab_link": true
    },
    "kernelspec": {
      "name": "python3",
      "display_name": "Python 3"
    }
  },
  "cells": [
    {
      "cell_type": "markdown",
      "metadata": {
        "id": "view-in-github",
        "colab_type": "text"
      },
      "source": [
        "<a href=\"https://colab.research.google.com/github/ujin2021/ML_CrashCourse/blob/main/unit6.ipynb\" target=\"_parent\"><img src=\"https://colab.research.google.com/assets/colab-badge.svg\" alt=\"Open In Colab\"/></a>"
      ]
    },
    {
      "cell_type": "markdown",
      "metadata": {
        "id": "dbEId2yMKAZ1"
      },
      "source": [
        "### 검증\r\n",
        "* 데이터 세트를 학습세트 + 데이터 세트 로 나누면 특정 모델이 새 데이터를 잘 처리할 수 있을 정도로 일반화 되었는지 판단가능.\r\n",
        "* 하지만 초 매개변수 조정을 여러차례 실행시, 데이터 세트를 둘로 나누는 것이 충분하지 않을 수 있다.\r\n",
        "\r\n",
        "<br>\r\n",
        "\r\n",
        "* 학습 세트로 모델을 학습. 테스트 세트로 모델을 평가. 테스트 세트의 결과에 따라 모델을 조정\r\n",
        "* 이렇게 되면 테스트 세트특성에 과적합한 모델이 나올 수 있다\r\n",
        "\r\n",
        "<br>\r\n",
        "\r\n",
        "* 따라서 모집단에서 '검증 데이터'를 만든다\r\n",
        "* 데이터 세트 = 훈련세트 + 검증세트+테스트 세트\r\n",
        "* 학습데이터로 학습시키고, 데이터 평가에는 검증 데이터만 사용하는 약간 개선된 반복 방식을 사용한다(테스트 데이터는 사용하지 않는다)\r\n",
        "* 학습세트로 모델을 학습, 검증 세트로 모델을 평가, 검증세트의 결과에 따라 모델 조정\r\n",
        "* 검증세트의 결과로 매개변수나 모델을 수정하는 작업을 한다\r\n",
        "* 검증세트에서 가장 우수한 결과를 보이는 모델을 선택한다\r\n",
        "\r\n",
        "<br>\r\n",
        "\r\n",
        "* 최종으로 테스트 데이터를 대상으로 모델을 테스트 한다.\r\n",
        "* 테스트 데이터에서 얻은 결과와 검증데이터 결과가 일치하는지 확인한다\r\n",
        "* 모델 훈련 시 테스트 세트가 더 적게 노출되므로 더 우수하다\r\n",
        "* 일치하지 않는다면 검증세트에 과적합한 모델일 가능성이 높다"
      ]
    },
    {
      "cell_type": "markdown",
      "metadata": {
        "id": "85izHIJ4Nlyf"
      },
      "source": [
        "* 학습세트와 검증세트의 값의 분포가 대략적으로 핱아야 한다\r\n",
        "* 하지만 위의 학습세트와 검증세트에서의 값의 분포가 다르다 => 학습세트와 검증세트를 만드는 방법이 잘못되었을 가능성이 높다\r\n",
        "* 현재 데이터를 읽을 때 무작위로 적절히 섞지 않아서 데이터가 일정한 규칙으로 정렬된 경우 문제가 생길 수 있다"
      ]
    },
    {
      "cell_type": "markdown",
      "metadata": {
        "id": "R545Yv8gTD7T"
      },
      "source": [
        "<a href=\"https://colab.research.google.com/notebooks/mlcc/validation.ipynb?utm_source=mlcc&utm_campaign=colab-external&utm_medium=referral&utm_content=validation-colab&hl=ko\">코드 연습</a>"
      ]
    },
    {
      "cell_type": "code",
      "metadata": {
        "id": "GmvxTuZbTK4d"
      },
      "source": [
        ""
      ],
      "execution_count": null,
      "outputs": []
    }
  ]
}