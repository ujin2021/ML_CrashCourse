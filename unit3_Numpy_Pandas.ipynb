{
  "nbformat": 4,
  "nbformat_minor": 0,
  "metadata": {
    "colab": {
      "name": "unit3_Numpy_Pandas.ipynb",
      "provenance": [],
      "collapsed_sections": [
        "lMWLkyIEjQ9X"
      ],
      "authorship_tag": "ABX9TyNnweJubdfmbLGXML3FtRUF",
      "include_colab_link": true
    },
    "kernelspec": {
      "name": "python3",
      "display_name": "Python 3"
    }
  },
  "cells": [
    {
      "cell_type": "markdown",
      "metadata": {
        "id": "view-in-github",
        "colab_type": "text"
      },
      "source": [
        "<a href=\"https://colab.research.google.com/github/ujin2021/ML_CrashCourse/blob/main/unit3_Numpy_Pandas.ipynb\" target=\"_parent\"><img src=\"https://colab.research.google.com/assets/colab-badge.svg\" alt=\"Open In Colab\"/></a>"
      ]
    },
    {
      "cell_type": "markdown",
      "metadata": {
        "id": "bm9RnvWCYWzG"
      },
      "source": [
        "### Numpy and Pandas"
      ]
    },
    {
      "cell_type": "markdown",
      "metadata": {
        "id": "lMWLkyIEjQ9X"
      },
      "source": [
        "#### Numpy\r\n",
        "* array를 간단하게 표현해주고, linear algebra opration을 수행함."
      ]
    },
    {
      "cell_type": "code",
      "metadata": {
        "id": "EXrPTuodYONE"
      },
      "source": [
        "import numpy as np"
      ],
      "execution_count": null,
      "outputs": []
    },
    {
      "cell_type": "code",
      "metadata": {
        "colab": {
          "base_uri": "https://localhost:8080/"
        },
        "id": "bCCFsJjeY9xT",
        "outputId": "3e0ee8e7-1dc8-4cd9-cd99-3ed260c2d833"
      },
      "source": [
        "one_dimensional_array = np.array([1.2, 2.4, 3.5, 4.7, 6.1, 7.2, 8.3, 9.5]) # list가 아닌 array\r\n",
        "print(one_dimensional_array) # 쉼표가 없다"
      ],
      "execution_count": null,
      "outputs": [
        {
          "output_type": "stream",
          "text": [
            "[1.2 2.4 3.5 4.7 6.1 7.2 8.3 9.5]\n"
          ],
          "name": "stdout"
        }
      ]
    },
    {
      "cell_type": "code",
      "metadata": {
        "colab": {
          "base_uri": "https://localhost:8080/"
        },
        "id": "qiCt4-rnZNX_",
        "outputId": "275c6b13-f205-425b-e122-14f6473a57d1"
      },
      "source": [
        "two_diensional_array = np.array([[6, 5], [11, 7], [4, 8]])\r\n",
        "print(two_diensional_array)"
      ],
      "execution_count": null,
      "outputs": [
        {
          "output_type": "stream",
          "text": [
            "[[ 6  5]\n",
            " [11  7]\n",
            " [ 4  8]]\n"
          ],
          "name": "stdout"
        }
      ]
    },
    {
      "cell_type": "code",
      "metadata": {
        "colab": {
          "base_uri": "https://localhost:8080/"
        },
        "id": "g1-5YFQRZbO2",
        "outputId": "860038a6-ab63-43d9-ecfd-b5b4e30fbb4b"
      },
      "source": [
        "zero_array = np.zeros(6)\r\n",
        "print(zero_array)\r\n",
        "one_array = np.ones(6)\r\n",
        "print(one_array)"
      ],
      "execution_count": null,
      "outputs": [
        {
          "output_type": "stream",
          "text": [
            "[0. 0. 0. 0. 0. 0.]\n",
            "[1. 1. 1. 1. 1. 1.]\n"
          ],
          "name": "stdout"
        }
      ]
    },
    {
      "cell_type": "code",
      "metadata": {
        "colab": {
          "base_uri": "https://localhost:8080/"
        },
        "id": "x9_iIcMtZuI1",
        "outputId": "6169fb8a-7d70-4706-8d43-9b38045ce3b3"
      },
      "source": [
        "# np.arange\r\n",
        "sequence_of_integers = np.arange(5, 12)\r\n",
        "print(sequence_of_integers) # 5이상, 12미만"
      ],
      "execution_count": null,
      "outputs": [
        {
          "output_type": "stream",
          "text": [
            "[ 5  6  7  8  9 10 11]\n"
          ],
          "name": "stdout"
        }
      ]
    },
    {
      "cell_type": "code",
      "metadata": {
        "colab": {
          "base_uri": "https://localhost:8080/"
        },
        "id": "K5Pu3lJzZ61u",
        "outputId": "ef0584d0-e802-449b-b39f-b5601ddd2b43"
      },
      "source": [
        "# np.random.randint (low이상, high 미만)\r\n",
        "random_integers_between_50_and_100 = np.random.randint(low = 50, high = 101, size = (6))\r\n",
        "print(random_integers_between_50_and_100)\r\n",
        "\r\n",
        "# np.random.random (0과 1 사이의 float)\r\n",
        "random_floats_between_0_and_1 = np.random.random([6])\r\n",
        "print(random_floats_between_0_and_1)"
      ],
      "execution_count": null,
      "outputs": [
        {
          "output_type": "stream",
          "text": [
            "[ 62  61  86 100  79  80]\n",
            "[0.99664402 0.84050151 0.23523233 0.31156894 0.70839692 0.94461608]\n"
          ],
          "name": "stdout"
        }
      ]
    },
    {
      "cell_type": "code",
      "metadata": {
        "colab": {
          "base_uri": "https://localhost:8080/"
        },
        "id": "zoUn0a6Takzw",
        "outputId": "6ecb5386-1b48-42d2-8428-ae1b30405ec2"
      },
      "source": [
        "random_floats_between_2_and_3 = random_floats_between_0_and_1 + 2.0\r\n",
        "print(random_floats_between_2_and_3)\r\n",
        "\r\n",
        "random_integers_between_150_300 = random_integers_between_50_and_100 * 3\r\n",
        "print(random_integers_between_150_300)"
      ],
      "execution_count": null,
      "outputs": [
        {
          "output_type": "stream",
          "text": [
            "[2.99664402 2.84050151 2.23523233 2.31156894 2.70839692 2.94461608]\n",
            "[186 183 258 300 237 240]\n"
          ],
          "name": "stdout"
        }
      ]
    },
    {
      "cell_type": "code",
      "metadata": {
        "colab": {
          "base_uri": "https://localhost:8080/"
        },
        "id": "MtdEaCdla_7U",
        "outputId": "f6aa192b-6cf5-499b-ce8d-70155eec58e7"
      },
      "source": [
        "# Create a Linear Dataset\r\n",
        "# create a simpole dataset consisting of a single feature and a label\r\n",
        "# label = (3)(feature) + 4. if feature = 6, label = 22\r\n",
        "\r\n",
        "# 1. Assign a sequence of integers from 6 to 20\r\n",
        "feature = np.arange(6, 21)\r\n",
        "print(feature)\r\n",
        "# 2. Assign 15 values to a NumPy array named label\r\n",
        "label = (feature * 3) + 4 # feature가 array인데, 바로 연산을 하면 결과도 array\r\n",
        "print(label)"
      ],
      "execution_count": null,
      "outputs": [
        {
          "output_type": "stream",
          "text": [
            "[ 6  7  8  9 10 11 12 13 14 15 16 17 18 19 20]\n",
            "[22 25 28 31 34 37 40 43 46 49 52 55 58 61 64]\n"
          ],
          "name": "stdout"
        }
      ]
    },
    {
      "cell_type": "code",
      "metadata": {
        "colab": {
          "base_uri": "https://localhost:8080/"
        },
        "id": "QxtbtQ30b4zR",
        "outputId": "6b6247cf-07b4-4e97-f106-5e84f47c930a"
      },
      "source": [
        "# Make dataset a little more realistic\r\n",
        "# insert a little random noise(float, -2 to 2)\r\n",
        "\r\n",
        "noise = (np.random.random([15]) * 4) - 2 # 위에서 6 ~ 20까지니까 array크기는 15\r\n",
        "# np.random.random : 0 to 1, np.random.random * 4 - 2 : -2 to 2\r\n",
        "print(noise)\r\n",
        "\r\n",
        "label = label + noise\r\n",
        "print(label)"
      ],
      "execution_count": null,
      "outputs": [
        {
          "output_type": "stream",
          "text": [
            "[-0.73876507  0.30972912 -0.60738342  0.98307206 -1.04055646  1.37608712\n",
            "  1.94052099 -0.66195136  0.77891494  0.03749328  1.79021784  0.42234237\n",
            " -0.84865655  0.32176692  1.55695849]\n",
            "[21.26123493 25.30972912 27.39261658 31.98307206 32.95944354 38.37608712\n",
            " 41.94052099 42.33804864 46.77891494 49.03749328 53.79021784 55.42234237\n",
            " 57.15134345 61.32176692 65.55695849]\n"
          ],
          "name": "stdout"
        }
      ]
    },
    {
      "cell_type": "markdown",
      "metadata": {
        "id": "kBRXs1JGY0n_"
      },
      "source": [
        "#### Pandas\r\n",
        "* memory의 dataset을 간단하게 표현해줌."
      ]
    },
    {
      "cell_type": "code",
      "metadata": {
        "id": "fBhVspfbY1Kx"
      },
      "source": [
        "import pandas as pd"
      ],
      "execution_count": null,
      "outputs": []
    },
    {
      "cell_type": "code",
      "metadata": {
        "colab": {
          "base_uri": "https://localhost:8080/"
        },
        "id": "rISe__v5eeAf",
        "outputId": "b2308897-50be-4be0-e936-3ef16eb70f66"
      },
      "source": [
        "# Create and populate a 5x2 Numpy array\r\n",
        "my_data = np.array([[0, 3], [10, 7], [20, 9], [30, 14], [40, 15]])\r\n",
        "\r\n",
        "# Create a Python list that holds the names of the two colums\r\n",
        "my_column_names = ['temperature', 'activity']\r\n",
        "\r\n",
        "# Create a DataFrame\r\n",
        "my_dataframe = pd.DataFrame(data=my_data, columns=my_column_names)\r\n",
        "\r\n",
        "print(my_dataframe)"
      ],
      "execution_count": null,
      "outputs": [
        {
          "output_type": "stream",
          "text": [
            "   temperature  activity\n",
            "0            0         3\n",
            "1           10         7\n",
            "2           20         9\n",
            "3           30        14\n",
            "4           40        15\n"
          ],
          "name": "stdout"
        }
      ]
    },
    {
      "cell_type": "code",
      "metadata": {
        "colab": {
          "base_uri": "https://localhost:8080/"
        },
        "id": "kuFHuknTe89u",
        "outputId": "792f3e87-f3ea-4953-907d-acd725a2a7b2"
      },
      "source": [
        "# Create a new column\r\n",
        "my_dataframe[\"adjusted\"] = my_dataframe[\"activity\"] + 2\r\n",
        "print(my_dataframe)"
      ],
      "execution_count": null,
      "outputs": [
        {
          "output_type": "stream",
          "text": [
            "   temperature  activity  adjusted\n",
            "0            0         3         5\n",
            "1           10         7         9\n",
            "2           20         9        11\n",
            "3           30        14        16\n",
            "4           40        15        17\n"
          ],
          "name": "stdout"
        }
      ]
    },
    {
      "cell_type": "code",
      "metadata": {
        "colab": {
          "base_uri": "https://localhost:8080/"
        },
        "id": "KEHVZdYYfNcO",
        "outputId": "8032308c-b337-4854-8843-a01b16876bb5"
      },
      "source": [
        "# Subset of Dataframe(indexing, slicing)\r\n",
        "print(\"Rows #0, #1, and #2:\")\r\n",
        "print(my_dataframe.head(3), '\\n')\r\n",
        "\r\n",
        "print(\"Row #2:\")\r\n",
        "print(my_dataframe.iloc[[2]], '\\n') # iloc : 위치기반 indexing\r\n",
        "\r\n",
        "print(\"Rows #1, #2, and #3:\")\r\n",
        "print(my_dataframe[1:4], '\\n')\r\n",
        "\r\n",
        "print(\"Column temperature\")\r\n",
        "print(my_dataframe['temperature'])"
      ],
      "execution_count": null,
      "outputs": [
        {
          "output_type": "stream",
          "text": [
            "Rows #0, #1, and #2:\n",
            "   temperature  activity  adjusted\n",
            "0            0         3         5\n",
            "1           10         7         9\n",
            "2           20         9        11 \n",
            "\n",
            "Row #2:\n",
            "   temperature  activity  adjusted\n",
            "2           20         9        11 \n",
            "\n",
            "Rows #1, #2, and #3:\n",
            "   temperature  activity  adjusted\n",
            "1           10         7         9\n",
            "2           20         9        11\n",
            "3           30        14        16 \n",
            "\n",
            "Column temperature\n",
            "0     0\n",
            "1    10\n",
            "2    20\n",
            "3    30\n",
            "4    40\n",
            "Name: temperature, dtype: int64\n"
          ],
          "name": "stdout"
        }
      ]
    },
    {
      "cell_type": "code",
      "metadata": {
        "colab": {
          "base_uri": "https://localhost:8080/"
        },
        "id": "vuHFawGHfveJ",
        "outputId": "b6363e0d-5669-4966-e107-36a3d3a62239"
      },
      "source": [
        "my_data = np.random.randint(low=0, high=101, size=(3, 4)) # size에 2차원 배열도 가능..!!\r\n",
        "my_data_columns = ['Eleanor', 'Chidi', 'Tahani', 'Jason']\r\n",
        "my_dataframe = pd.DataFrame(data=my_data, columns=my_data_columns)\r\n",
        "\r\n",
        "print(my_dataframe)\r\n",
        "print(my_dataframe['Eleanor'][1])\r\n",
        "\r\n",
        "my_dataframe['Janet'] = my_dataframe['Tahani'] + my_dataframe['Jason']\r\n",
        "print(my_dataframe)"
      ],
      "execution_count": null,
      "outputs": [
        {
          "output_type": "stream",
          "text": [
            "   Eleanor  Chidi  Tahani  Jason\n",
            "0       61     87      38     58\n",
            "1       43     17      19     37\n",
            "2       99     91      64     77\n",
            "43\n",
            "   Eleanor  Chidi  Tahani  Jason  Janet\n",
            "0       61     87      38     58     96\n",
            "1       43     17      19     37     56\n",
            "2       99     91      64     77    141\n"
          ],
          "name": "stdout"
        }
      ]
    },
    {
      "cell_type": "code",
      "metadata": {
        "colab": {
          "base_uri": "https://localhost:8080/"
        },
        "id": "TgeqIV50g6z3",
        "outputId": "0acab53a-7b19-41fe-9643-a6e32d71e5e0"
      },
      "source": [
        "# Copying a Dataframe\r\n",
        "# Referencing : original이 변경되면 refence하는 dataframe도 변경됨\r\n",
        "# Copying : pd.DataFrame.copy : original이 변경돼도 refence하는 dataframe도 변경안됨(독립적)\r\n",
        "\r\n",
        "print('Reference')\r\n",
        "reference_to_df = my_dataframe\r\n",
        "print(f\"reference_to_df['Jason'][1] = {reference_to_df['Jason'][1]}, my_dataframe['Jason'][1] = {my_dataframe['Jason'][1]}\")\r\n",
        "\r\n",
        "my_dataframe['Jason'][1] = 3\r\n",
        "\r\n",
        "print(f\"reference_to_df['Jason'][1] = {reference_to_df['Jason'][1]}, my_dataframe['Jason'][1] = {my_dataframe['Jason'][1]}\")\r\n",
        "\r\n",
        "print('\\nCopy')\r\n",
        "copy_of_df = my_dataframe.copy()\r\n",
        "print(f\"copy_of_df['Jason'][1] = {copy_of_df['Jason'][1]}, my_dataframe['Jason'][1] = {my_dataframe['Jason'][1]}\")\r\n",
        "\r\n",
        "my_dataframe['Jason'][1] = 6\r\n",
        "\r\n",
        "print(f\"copy_of_df['Jason'][1] = {copy_of_df['Jason'][1]}, my_dataframe['Jason'][1] = {my_dataframe['Jason'][1]}\")"
      ],
      "execution_count": null,
      "outputs": [
        {
          "output_type": "stream",
          "text": [
            "Reference\n",
            "reference_to_df['Jason'][1] = 3, my_dataframe['Jason'][1] = 3\n",
            "reference_to_df['Jason'][1] = 3, my_dataframe['Jason'][1] = 3\n",
            "\n",
            "Copy\n",
            "copy_of_df['Jason'][1] = 3, my_dataframe['Jason'][1] = 3\n",
            "copy_of_df['Jason'][1] = 3, my_dataframe['Jason'][1] = 6\n"
          ],
          "name": "stdout"
        }
      ]
    },
    {
      "cell_type": "code",
      "metadata": {
        "id": "lRyj-xAhiZs_"
      },
      "source": [
        ""
      ],
      "execution_count": null,
      "outputs": []
    }
  ]
}