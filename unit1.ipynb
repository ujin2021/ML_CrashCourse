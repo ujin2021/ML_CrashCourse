{
  "nbformat": 4,
  "nbformat_minor": 0,
  "metadata": {
    "colab": {
      "name": "unit1.ipynb",
      "provenance": [],
      "collapsed_sections": [],
      "authorship_tag": "ABX9TyOo+/KURuLn5GOj0vYmKDSg",
      "include_colab_link": true
    },
    "kernelspec": {
      "name": "python3",
      "display_name": "Python 3"
    }
  },
  "cells": [
    {
      "cell_type": "markdown",
      "metadata": {
        "id": "view-in-github",
        "colab_type": "text"
      },
      "source": [
        "<a href=\"https://colab.research.google.com/github/ujin2021/ML_CrashCourse/blob/main/unit1.ipynb\" target=\"_parent\"><img src=\"https://colab.research.google.com/assets/colab-badge.svg\" alt=\"Open In Colab\"/></a>"
      ]
    },
    {
      "cell_type": "markdown",
      "metadata": {
        "id": "aWmoIB9uRwdd"
      },
      "source": [
        "### 용어 정리\n",
        "* Label : 예측하는 변수(일반적으로 y로 표시)\n",
        "* Feature : 데이터를 설명하는 입력변수 (일반적으로 {x1, x2, ..., xn} 로 표시)\n",
        "<br>\n",
        "\n",
        "* Labeled example {features, label} : (x, y)=> to train model\n",
        "* Unlabeled example {features, ?} : (x, ?)\n",
        "=> for making predictions on new data\n",
        "<br>\n",
        "\n",
        "* Model : mapping examples to predicted labels y', relationship between features and label.\n",
        "* Training : creating or learning the model\n",
        "<br>\n",
        "\n",
        "* Regression model : predicts ***continous*** values\n",
        "> ex1) What is the value of house in California? <br>\n",
        "> ex2) What is the probability that a user will click on this ad?\n",
        "* Classification model : predicts ***discrete*** values\n",
        "> ex1) Is a given email message spam or not spam? <br.\n",
        "> ex2) Is this an image of a dog, a cat, or a hamster?"
      ]
    },
    {
      "cell_type": "markdown",
      "metadata": {
        "id": "MPFzpX6GVznr"
      },
      "source": [
        "### 문제풀이\n",
        "지도학습에서 사용자에게 신발을 추천해주려고 할 때 유용한 라벨은?\n",
        "* 신발의 아름다움 x\n",
        "* 사용자가 좋아하는 신발 x\n",
        "* 신발 사이즈 v\n",
        "* 사용자가 설명을 클릭한 신발 v\n",
        "\n",
        "=> 관찰가능하고 정량화 할 수 있는 것을 지표로 삼아야 한다."
      ]
    },
    {
      "cell_type": "markdown",
      "metadata": {
        "id": "1OjnWR9OX0hT"
      },
      "source": [
        "### Linear Regression\n",
        "\n",
        "<img src=\"https://user-images.githubusercontent.com/53362054/99501806-9e85e700-29bf-11eb-84d8-1276f5be21bc.png\" width=\"500\" height=\"300\">"
      ]
    },
    {
      "cell_type": "markdown",
      "metadata": {
        "id": "576oPVuYZX-y"
      },
      "source": [
        "<img src=\"https://user-images.githubusercontent.com/53362054/99502527-895d8800-29c0-11eb-8130-fb45a7ddb501.png\" width=350 height=250>\n",
        "<img src=\"https://user-images.githubusercontent.com/53362054/99502554-937f8680-29c0-11eb-8619-01f596ca65af.png\" width=350 height=250>\n",
        "<br>\n",
        "\n",
        "<img src=\"https://user-images.githubusercontent.com/53362054/99502746-df323000-29c0-11eb-8fd8-20d1cd2593cb.png\" height=40> <br>\n",
        "\n",
        "* y' = predicted label\n",
        "* b = bias(y-intercept:절편)\n",
        "* w₁= weight of feature 1, sams as slope\n",
        "* x₁= feature(known input) \n",
        "\n",
        "<br>\n",
        "\n",
        "<img src=\"https://user-images.githubusercontent.com/53362054/99503160-58318780-29c1-11eb-8a2f-037f112d1004.png\" height=40>\n",
        "\n",
        "* 위에서는 weight가 1개였지만 여러 weight를 가질수도 있다\n",
        "* inference(추론) : process of making predictions by applying the trained model to unlabeled examples"
      ]
    },
    {
      "cell_type": "markdown",
      "metadata": {
        "id": "htCBGf4KcP0_"
      },
      "source": [
        "### Training and Loss\n",
        "* Training : attempting to find a model that minimizes loss(empirical risk minimization)\n",
        "* Loss : penalty for a bad prediction(if model's prediction is perfect, loss is zero otherwise greater)\n",
        "\n",
        "### Squared loss : a popular loss function\n",
        "* Linear regression models use a loss function called squred loss(known as L₂loss)\n",
        "* (observation - prediction(x))2 = (y - y')2\n",
        "\n",
        "#### MSE(Mean square Error)\n",
        "* average squared loss per example\n",
        "\n",
        "<img src=\"https://user-images.githubusercontent.com/53362054/99504434-e5c1a700-29c2-11eb-9ce3-66f9b8ada40c.png\" width=300>\n",
        "\n",
        "* (x, y) : example\n",
        "   * x : set of feature\n",
        "   * y : example's label\n",
        "* prediction(x) : function of the weights and bias in combination with the set of feature x\n",
        "* D : data set contaning many labeled examples like (x, y) pairs\n",
        "* N : the number of examples in D\n"
      ]
    },
    {
      "cell_type": "code",
      "metadata": {
        "id": "QCpSajdDRsIe"
      },
      "source": [
        ""
      ],
      "execution_count": null,
      "outputs": []
    }
  ]
}