{
  "nbformat": 4,
  "nbformat_minor": 0,
  "metadata": {
    "colab": {
      "name": "unit10.ipynb",
      "provenance": [],
      "collapsed_sections": [],
      "authorship_tag": "ABX9TyO8i+E6qWY65LwlCh567w3o",
      "include_colab_link": true
    },
    "kernelspec": {
      "name": "python3",
      "display_name": "Python 3"
    }
  },
  "cells": [
    {
      "cell_type": "markdown",
      "metadata": {
        "id": "view-in-github",
        "colab_type": "text"
      },
      "source": [
        "<a href=\"https://colab.research.google.com/github/ujin2021/ML_CrashCourse/blob/main/unit10.ipynb\" target=\"_parent\"><img src=\"https://colab.research.google.com/assets/colab-badge.svg\" alt=\"Open In Colab\"/></a>"
      ]
    },
    {
      "cell_type": "markdown",
      "metadata": {
        "id": "vDMaoTZxrAQ-"
      },
      "source": [
        "### 로지스틱 회귀\r\n",
        "* 구부러지거나 매우 무거운 동전을 던졌을 때 앞면이 나올 확률 예측\r\n",
        "  * 구부러진 각도, 동전의 질량등의 특성을 사용할 수 있다\r\n",
        "  * 사용할 수 있는 가장 단순한 모델은?\r\n",
        "* 로지스틱 회귀 : 얻은 값이 0과 1사이의 확률로 해석되고, 0과 1사이의 범위를 절대 초과하지 않는 함수\r\n",
        "* 시그모이드 함수 : 시그모이드는 0과 1사이의 한정된 값을 제공(점근선)\r\n",
        "* 선형로지스틱회귀\r\n",
        "  * 학습 및 예측 시간이 매우 빠르다\r\n",
        "* 범주형 변수를 예측하는 모델\r\n",
        "* 이진분류 문제의 해결방법\r\n",
        "  * 예)이 메일이 스팸이다 / 아니다 예측\r\n",
        "\r\n",
        "<br>\r\n",
        "\r\n",
        "![image](https://user-images.githubusercontent.com/53362054/103460620-0ec3ae80-4d5b-11eb-8d63-f264ff13a306.png)\r\n",
        "\r\n",
        "<br>\r\n",
        "\r\n",
        "* 시그모이드 함수 <br>\r\n",
        "\r\n",
        "<img src=\"https://user-images.githubusercontent.com/53362054/103460635-226f1500-4d5b-11eb-828f-27729d4deee3.png\" width=500, height=350>\r\n",
        "\r\n",
        "<br>\r\n",
        "\r\n",
        "* 선형 회귀의 손실함수는 제곱손실이다.\r\n",
        "* 로지스틱 회귀의 손실함수는 로그손실이다\r\n",
        "<br>\r\n",
        "\r\n",
        "![image](https://user-images.githubusercontent.com/53362054/103460678-ab864c00-4d5b-11eb-90b0-80b96d7d9af2.png)\r\n",
        "\r\n",
        "<br>\r\n",
        "\r\n",
        "* 로지스틱 회귀이므로 y값의 범위는 0~1이다\r\n",
        "* 로지스틱 회귀모델에서 모델의 복잡성을 줄이기 위해 L₂ 정규화 또는 조기중단을 사용한다"
      ]
    },
    {
      "cell_type": "code",
      "metadata": {
        "id": "SKsSM_-2q2uD"
      },
      "source": [
        ""
      ],
      "execution_count": null,
      "outputs": []
    }
  ]
}